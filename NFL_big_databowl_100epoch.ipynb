{
 "cells": [
  {
   "cell_type": "code",
   "execution_count": 1,
   "metadata": {
    "colab": {
     "base_uri": "https://localhost:8080/",
     "height": 51
    },
    "colab_type": "code",
    "id": "RRgWK_Jc8LNl",
    "outputId": "d86ea8c2-c2e5-41a3-8748-4e88007017aa"
   },
   "outputs": [
    {
     "name": "stdout",
     "output_type": "stream",
     "text": [
      "1.13.1\n"
     ]
    },
    {
     "name": "stderr",
     "output_type": "stream",
     "text": [
      "Using TensorFlow backend.\n"
     ]
    }
   ],
   "source": [
    "\n",
    "# https://blog.keras.io/building-autoencoders-in-keras.html\n",
    "\n",
    "# from google.colab import drive\n",
    "import cv2\n",
    "import os\n",
    "import numpy as np\n",
    "from matplotlib import pyplot as plt\n",
    "import pickle\n",
    "\n",
    "from pathlib import Path\n",
    "\n",
    "import tensorflow as tf\n",
    "from keras.callbacks import ModelCheckpoint\n",
    "print(tf.version.VERSION)\n",
    "\n",
    "#import keras\n",
    "%matplotlib inline\n",
    "\n",
    "\n",
    "\n",
    "# drive.mount(\"/content/gdrive\")\n",
    "\n",
    "#home_path='/content/gdrive/My Drive/w251/Final_project/20200328/'\n",
    "# home_path='/content/gdrive/My Drive/w251/Final_project/20200403/'\n",
    "\n",
    "## Select tensor input\n",
    "\n",
    "data_path = '/workspace/full_data.npy'\n",
    "\n",
    "# ## Select weight for knowledge transfer\n",
    "label_path = '/workspace/full_labels.npy'\n",
    "\n",
    "\n"
   ]
  },
  {
   "cell_type": "code",
   "execution_count": 2,
   "metadata": {
    "colab": {},
    "colab_type": "code",
    "id": "wR8fEIyb2rjn"
   },
   "outputs": [],
   "source": [
    "def npy_load_data(data_path):\n",
    "  imgPath = Path(data_path)\n",
    "  sampleData = []\n",
    "  with imgPath.open('rb') as f:\n",
    "    \n",
    "    fsz = os.fstat(f.fileno()).st_size\n",
    "#     print(fsz)\n",
    "    out = np.load(f)\n",
    "    sampleData.append(out)\n",
    "    while f.tell() < 15000000000:\n",
    "        sampleData.append(np.load(f))\n",
    "  sampleData = np.asarray(sampleData)\n",
    "  print(sampleData.shape) \n",
    "  return sampleData\n",
    "\n",
    "def npy_load_label(data_path):\n",
    "  imgPath = Path(data_path)\n",
    "  sampleData = []\n",
    "  with imgPath.open('rb') as f:\n",
    "    \n",
    "    fsz = os.fstat(f.fileno()).st_size\n",
    "#     print(fsz)\n",
    "    out = np.load(f)\n",
    "    sampleData.append(out)\n",
    "    while f.tell() < fsz:\n",
    "        sampleData.append(np.load(f))\n",
    "  sampleData = np.asarray(sampleData)\n",
    "  print(sampleData.shape) \n",
    "  return sampleData"
   ]
  },
  {
   "cell_type": "code",
   "execution_count": 3,
   "metadata": {
    "colab": {
     "base_uri": "https://localhost:8080/",
     "height": 51
    },
    "colab_type": "code",
    "id": "2eEuIg1DR4_Z",
    "outputId": "e741abd6-025f-4cfb-ab25-13d43847e5c4",
    "scrolled": true
   },
   "outputs": [
    {
     "name": "stdout",
     "output_type": "stream",
     "text": [
      "(12330, 176, 192, 9)\n",
      "(30467,)\n"
     ]
    },
    {
     "data": {
      "text/plain": [
       "(12330,)"
      ]
     },
     "execution_count": 3,
     "metadata": {},
     "output_type": "execute_result"
    }
   ],
   "source": [
    "data_train=npy_load_data(data_path)\n",
    "data_label=npy_load_label(label_path)\n",
    "\n",
    "data_label_sub = data_label[0:data_train.shape[0]]\n",
    "data_label_sub.shape\n",
    "\n",
    "# data_train=np.load('full_data.npy')\n",
    "# data_label=np.load('full_labels.npy')\n",
    "# data_label"
   ]
  },
  {
   "cell_type": "code",
   "execution_count": 4,
   "metadata": {},
   "outputs": [
    {
     "data": {
      "text/plain": [
       "(12330, 176, 192, 9)"
      ]
     },
     "execution_count": 4,
     "metadata": {},
     "output_type": "execute_result"
    }
   ],
   "source": [
    "data_label_sub.shape\n",
    "data_train.shape"
   ]
  },
  {
   "cell_type": "code",
   "execution_count": 5,
   "metadata": {
    "colab": {},
    "colab_type": "code",
    "id": "0i_A85Ufn1oK"
   },
   "outputs": [],
   "source": [
    "data_train=data_train.astype('float32')\n",
    "data_label_sub = data_label_sub.astype('float32')\n",
    "data_label_sub_biased=np.log(data_label_sub+30)*20"
   ]
  },
  {
   "cell_type": "code",
   "execution_count": 22,
   "metadata": {},
   "outputs": [
    {
     "data": {
      "text/plain": [
       "Text(0, 0.5, 'Frequency')"
      ]
     },
     "execution_count": 22,
     "metadata": {},
     "output_type": "execute_result"
    },
    {
     "data": {
      "image/png": "[encoded data removed]",
      "text/plain": [
       "<Figure size 432x288 with 1 Axes>"
      ]
     },
     "metadata": {
      "needs_background": "light"
     },
     "output_type": "display_data"
    }
   ],
   "source": [
    "plt.hist(data_label_sub)\n",
    "plt.hist(data_label_sub_biased)\n",
    "\n",
    "plt.legend(['raw_label', 'retularized_label'])\n",
    "plt.xlabel('Yardage')\n",
    "plt.ylabel('Frequency')"
   ]
  },
  {
   "cell_type": "markdown",
   "metadata": {
    "colab_type": "text",
    "id": "Ov4wPqEo6pL4"
   },
   "source": [
    "## Split train and test data"
   ]
  },
  {
   "cell_type": "code",
   "execution_count": 7,
   "metadata": {
    "colab": {},
    "colab_type": "code",
    "id": "QFlwXKCr8XaJ"
   },
   "outputs": [],
   "source": [
    "data_train_in_norm=tf.keras.utils.normalize(data_train, axis = 3)"
   ]
  },
  {
   "cell_type": "code",
   "execution_count": 8,
   "metadata": {
    "colab": {},
    "colab_type": "code",
    "id": "lqOxJW3mAKeM"
   },
   "outputs": [],
   "source": [
    "from sklearn.model_selection import train_test_split\n",
    "# Train data normalization\n",
    "xTrain, xTest, yTrain, yTest = train_test_split(data_train_in_norm, data_label_sub_biased, test_size = 0.4, random_state = 123)\n"
   ]
  },
  {
   "cell_type": "code",
   "execution_count": 9,
   "metadata": {},
   "outputs": [
    {
     "data": {
      "text/plain": [
       "array([69.93015 , 68.67974 , 71.106964, 71.67038 , 68.02395 , 69.31472 ,\n",
       "       69.93015 , 68.67974 , 66.64409 , 68.02395 ], dtype=float32)"
      ]
     },
     "execution_count": 9,
     "metadata": {},
     "output_type": "execute_result"
    }
   ],
   "source": [
    "yTest[0:10]"
   ]
  },
  {
   "cell_type": "markdown",
   "metadata": {
    "colab_type": "text",
    "id": "34x6V1WU8ZBK"
   },
   "source": [
    "## Data standarization"
   ]
  },
  {
   "cell_type": "code",
   "execution_count": 10,
   "metadata": {
    "colab": {
     "base_uri": "https://localhost:8080/",
     "height": 1000
    },
    "colab_type": "code",
    "id": "zj54UIu4n_D_",
    "outputId": "ea02df33-7055-4735-f2e1-326ee502c262"
   },
   "outputs": [
    {
     "name": "stdout",
     "output_type": "stream",
     "text": [
      "WARNING:tensorflow:From /opt/conda/lib/python3.6/site-packages/tensorflow/python/ops/resource_variable_ops.py:435: colocate_with (from tensorflow.python.framework.ops) is deprecated and will be removed in a future version.\n",
      "Instructions for updating:\n",
      "Colocations handled automatically by placer.\n",
      "WARNING:tensorflow:From /opt/conda/lib/python3.6/site-packages/tensorflow/python/keras/utils/losses_utils.py:170: to_float (from tensorflow.python.ops.math_ops) is deprecated and will be removed in a future version.\n",
      "Instructions for updating:\n",
      "Use tf.cast instead.\n",
      "/workspace/checkpoint\n",
      "Train on 7398 samples, validate on 4932 samples\n",
      "WARNING:tensorflow:From /opt/conda/lib/python3.6/site-packages/tensorflow/python/ops/math_ops.py:3066: to_int32 (from tensorflow.python.ops.math_ops) is deprecated and will be removed in a future version.\n",
      "Instructions for updating:\n",
      "Use tf.cast instead.\n",
      "Epoch 1/100\n",
      "7398/7398 [==============================] - 107s 14ms/sample - loss: 142073.1813 - val_loss: 15.0618\n",
      "Epoch 2/100\n",
      "7398/7398 [==============================] - 34s 5ms/sample - loss: 17.0462 - val_loss: 36.5482\n",
      "Epoch 3/100\n",
      "7398/7398 [==============================] - 35s 5ms/sample - loss: 16.0881 - val_loss: 19.8980\n",
      "Epoch 4/100\n",
      "7398/7398 [==============================] - 34s 5ms/sample - loss: 18.8531 - val_loss: 20.1893\n",
      "Epoch 5/100\n",
      "7380/7398 [============================>.] - ETA: 0s - loss: 19.6005\n",
      "Epoch 00005: loss improved from inf to 19.58270, saving model to /workspace/checkpoint/cp-nfl-0005.ckpt\n",
      "7398/7398 [==============================] - 37s 5ms/sample - loss: 19.5827 - val_loss: 15.6562\n",
      "Epoch 6/100\n",
      "7398/7398 [==============================] - 34s 5ms/sample - loss: 18.1907 - val_loss: 14.9048\n",
      "Epoch 7/100\n",
      "7398/7398 [==============================] - 34s 5ms/sample - loss: 18.5277 - val_loss: 31.5718\n",
      "Epoch 8/100\n",
      "7398/7398 [==============================] - 35s 5ms/sample - loss: 17.6821 - val_loss: 14.9465\n",
      "Epoch 9/100\n",
      "7398/7398 [==============================] - 34s 5ms/sample - loss: 18.5027 - val_loss: 14.1510\n",
      "Epoch 10/100\n",
      "7380/7398 [============================>.] - ETA: 0s - loss: 23.5306\n",
      "Epoch 00010: loss did not improve from 19.58270\n",
      "7398/7398 [==============================] - 35s 5ms/sample - loss: 23.4989 - val_loss: 14.2306\n",
      "Epoch 11/100\n",
      "7398/7398 [==============================] - 34s 5ms/sample - loss: 20.5360 - val_loss: 15.6953\n",
      "Epoch 12/100\n",
      "7398/7398 [==============================] - 35s 5ms/sample - loss: 17.9925 - val_loss: 19.5726\n",
      "Epoch 13/100\n",
      "7398/7398 [==============================] - 34s 5ms/sample - loss: 17.4229 - val_loss: 21.8540\n",
      "Epoch 14/100\n",
      "7398/7398 [==============================] - 35s 5ms/sample - loss: 17.9468 - val_loss: 16.2061\n",
      "Epoch 15/100\n",
      "7380/7398 [============================>.] - ETA: 0s - loss: 17.4323\n",
      "Epoch 00015: loss improved from 19.58270 to 17.41362, saving model to /workspace/checkpoint/cp-nfl-0015.ckpt\n",
      "7398/7398 [==============================] - 36s 5ms/sample - loss: 17.4136 - val_loss: 25.5280\n",
      "Epoch 16/100\n",
      "7398/7398 [==============================] - 35s 5ms/sample - loss: 19.0047 - val_loss: 16.5006\n",
      "Epoch 17/100\n",
      "7398/7398 [==============================] - 34s 5ms/sample - loss: 33.4474 - val_loss: 278.3354\n",
      "Epoch 18/100\n",
      "7398/7398 [==============================] - 35s 5ms/sample - loss: 19.8135 - val_loss: 17.8516\n",
      "Epoch 19/100\n",
      "7398/7398 [==============================] - 34s 5ms/sample - loss: 15.9314 - val_loss: 18.4793\n",
      "Epoch 20/100\n",
      "7380/7398 [============================>.] - ETA: 0s - loss: 18.5055\n",
      "Epoch 00020: loss did not improve from 17.41362\n",
      "7398/7398 [==============================] - 34s 5ms/sample - loss: 18.4900 - val_loss: 14.0635\n",
      "Epoch 21/100\n",
      "7398/7398 [==============================] - 34s 5ms/sample - loss: 16.8837 - val_loss: 16.0011\n",
      "Epoch 22/100\n",
      "7398/7398 [==============================] - 34s 5ms/sample - loss: 16.5476 - val_loss: 16.9372\n",
      "Epoch 23/100\n",
      "7398/7398 [==============================] - 35s 5ms/sample - loss: 18.7872 - val_loss: 13.9023\n",
      "Epoch 24/100\n",
      "7398/7398 [==============================] - 34s 5ms/sample - loss: 17.6249 - val_loss: 16.2793\n",
      "Epoch 25/100\n",
      "7380/7398 [============================>.] - ETA: 0s - loss: 15.7231\n",
      "Epoch 00025: loss improved from 17.41362 to 15.71366, saving model to /workspace/checkpoint/cp-nfl-0025.ckpt\n",
      "7398/7398 [==============================] - 36s 5ms/sample - loss: 15.7137 - val_loss: 14.1602\n",
      "Epoch 26/100\n",
      "7398/7398 [==============================] - 34s 5ms/sample - loss: 17.1150 - val_loss: 13.8750\n",
      "Epoch 27/100\n",
      "7398/7398 [==============================] - 34s 5ms/sample - loss: 16.5153 - val_loss: 21.1824\n",
      "Epoch 28/100\n",
      "7398/7398 [==============================] - 34s 5ms/sample - loss: 16.7001 - val_loss: 14.3072\n",
      "Epoch 29/100\n",
      "7398/7398 [==============================] - 34s 5ms/sample - loss: 16.4932 - val_loss: 13.6625\n",
      "Epoch 30/100\n",
      "7380/7398 [============================>.] - ETA: 0s - loss: 16.5916\n",
      "Epoch 00030: loss did not improve from 15.71366\n",
      "7398/7398 [==============================] - 35s 5ms/sample - loss: 16.5772 - val_loss: 15.1266\n",
      "Epoch 31/100\n",
      "7398/7398 [==============================] - 34s 5ms/sample - loss: 16.7882 - val_loss: 25.5069\n",
      "Epoch 32/100\n",
      "7398/7398 [==============================] - 34s 5ms/sample - loss: 15.4575 - val_loss: 13.6679\n",
      "Epoch 33/100\n",
      "7398/7398 [==============================] - 34s 5ms/sample - loss: 18.0061 - val_loss: 15.8629\n",
      "Epoch 34/100\n",
      "7398/7398 [==============================] - 34s 5ms/sample - loss: 16.3890 - val_loss: 14.4727\n",
      "Epoch 35/100\n",
      "7380/7398 [============================>.] - ETA: 0s - loss: 16.1246\n",
      "Epoch 00035: loss did not improve from 15.71366\n",
      "7398/7398 [==============================] - 34s 5ms/sample - loss: 16.1192 - val_loss: 14.6794\n",
      "Epoch 36/100\n",
      "7398/7398 [==============================] - 34s 5ms/sample - loss: 16.3989 - val_loss: 13.5119\n",
      "Epoch 37/100\n",
      "7398/7398 [==============================] - 35s 5ms/sample - loss: 16.0084 - val_loss: 19.4258\n",
      "Epoch 38/100\n",
      "7398/7398 [==============================] - 34s 5ms/sample - loss: 15.4737 - val_loss: 16.5066\n",
      "Epoch 39/100\n",
      "7398/7398 [==============================] - 35s 5ms/sample - loss: 17.3499 - val_loss: 13.2787\n",
      "Epoch 40/100\n",
      "7380/7398 [============================>.] - ETA: 0s - loss: 15.8149\n",
      "Epoch 00040: loss did not improve from 15.71366\n",
      "7398/7398 [==============================] - 34s 5ms/sample - loss: 15.8165 - val_loss: 23.4952\n",
      "Epoch 41/100\n",
      "7398/7398 [==============================] - 35s 5ms/sample - loss: 15.2189 - val_loss: 16.7091\n",
      "Epoch 42/100\n",
      "7398/7398 [==============================] - 34s 5ms/sample - loss: 15.5305 - val_loss: 13.1768\n",
      "Epoch 43/100\n",
      "7398/7398 [==============================] - 35s 5ms/sample - loss: 15.3823 - val_loss: 13.2019\n",
      "Epoch 44/100\n",
      "7398/7398 [==============================] - 34s 5ms/sample - loss: 15.2706 - val_loss: 13.3540\n",
      "Epoch 45/100\n",
      "7380/7398 [============================>.] - ETA: 0s - loss: 15.1078\n",
      "Epoch 00045: loss improved from 15.71366 to 15.13847, saving model to /workspace/checkpoint/cp-nfl-0045.ckpt\n",
      "7398/7398 [==============================] - 36s 5ms/sample - loss: 15.1385 - val_loss: 13.6858\n",
      "Epoch 46/100\n",
      "7398/7398 [==============================] - 34s 5ms/sample - loss: 14.2392 - val_loss: 13.3116\n",
      "Epoch 47/100\n",
      "7398/7398 [==============================] - 35s 5ms/sample - loss: 15.5577 - val_loss: 12.9680\n",
      "Epoch 48/100\n",
      "7398/7398 [==============================] - 35s 5ms/sample - loss: 14.7106 - val_loss: 13.0975\n",
      "Epoch 49/100\n",
      "7398/7398 [==============================] - 34s 5ms/sample - loss: 13.8257 - val_loss: 12.9973\n",
      "Epoch 50/100\n",
      "7380/7398 [============================>.] - ETA: 0s - loss: 14.5801\n",
      "Epoch 00050: loss improved from 15.13847 to 14.56482, saving model to /workspace/checkpoint/cp-nfl-0050.ckpt\n",
      "7398/7398 [==============================] - 36s 5ms/sample - loss: 14.5648 - val_loss: 12.8362\n",
      "Epoch 51/100\n",
      "7398/7398 [==============================] - 34s 5ms/sample - loss: 15.1584 - val_loss: 15.5341\n",
      "Epoch 52/100\n",
      "7398/7398 [==============================] - 34s 5ms/sample - loss: 14.4602 - val_loss: 16.2433\n",
      "Epoch 53/100\n",
      "7398/7398 [==============================] - 34s 5ms/sample - loss: 14.1742 - val_loss: 14.1050\n",
      "Epoch 54/100\n",
      "7398/7398 [==============================] - 34s 5ms/sample - loss: 13.9454 - val_loss: 12.7039\n",
      "Epoch 55/100\n",
      "7380/7398 [============================>.] - ETA: 0s - loss: 14.1354\n",
      "Epoch 00055: loss improved from 14.56482 to 14.15017, saving model to /workspace/checkpoint/cp-nfl-0055.ckpt\n",
      "7398/7398 [==============================] - 36s 5ms/sample - loss: 14.1502 - val_loss: 19.2375\n",
      "Epoch 56/100\n",
      "7398/7398 [==============================] - 34s 5ms/sample - loss: 14.3557 - val_loss: 14.5915\n",
      "Epoch 57/100\n",
      "7398/7398 [==============================] - 35s 5ms/sample - loss: 13.3714 - val_loss: 13.2763\n",
      "Epoch 58/100\n",
      "7398/7398 [==============================] - 34s 5ms/sample - loss: 13.8143 - val_loss: 13.6500\n",
      "Epoch 59/100\n",
      "7398/7398 [==============================] - 35s 5ms/sample - loss: 14.1505 - val_loss: 12.8590\n",
      "Epoch 60/100\n",
      "7380/7398 [============================>.] - ETA: 0s - loss: 14.3945\n",
      "Epoch 00060: loss did not improve from 14.15017\n",
      "7398/7398 [==============================] - 34s 5ms/sample - loss: 14.3884 - val_loss: 13.4145\n",
      "Epoch 61/100\n",
      "7398/7398 [==============================] - 35s 5ms/sample - loss: 13.2287 - val_loss: 14.3297\n",
      "Epoch 62/100\n",
      "7398/7398 [==============================] - 34s 5ms/sample - loss: 13.6997 - val_loss: 19.0681\n",
      "Epoch 63/100\n",
      "7398/7398 [==============================] - 34s 5ms/sample - loss: 12.9395 - val_loss: 18.1892\n",
      "Epoch 64/100\n",
      "7398/7398 [==============================] - 34s 5ms/sample - loss: 13.6276 - val_loss: 14.9948\n",
      "Epoch 65/100\n",
      "7380/7398 [============================>.] - ETA: 0s - loss: 13.5605\n",
      "Epoch 00065: loss improved from 14.15017 to 13.65299, saving model to /workspace/checkpoint/cp-nfl-0065.ckpt\n",
      "7398/7398 [==============================] - 36s 5ms/sample - loss: 13.6530 - val_loss: 12.0644\n",
      "Epoch 66/100\n",
      "7398/7398 [==============================] - 34s 5ms/sample - loss: 13.2955 - val_loss: 11.9404\n",
      "Epoch 67/100\n",
      "7398/7398 [==============================] - 34s 5ms/sample - loss: 13.5310 - val_loss: 13.5494\n",
      "Epoch 68/100\n",
      "7398/7398 [==============================] - 35s 5ms/sample - loss: 12.8692 - val_loss: 11.8136\n",
      "Epoch 69/100\n",
      "7398/7398 [==============================] - 35s 5ms/sample - loss: 13.4286 - val_loss: 12.2111\n",
      "Epoch 70/100\n",
      "7380/7398 [============================>.] - ETA: 0s - loss: 13.1884\n",
      "Epoch 00070: loss improved from 13.65299 to 13.23673, saving model to /workspace/checkpoint/cp-nfl-0070.ckpt\n",
      "7398/7398 [==============================] - 36s 5ms/sample - loss: 13.2367 - val_loss: 15.8403\n",
      "Epoch 71/100\n",
      "7398/7398 [==============================] - 34s 5ms/sample - loss: 12.8547 - val_loss: 11.6253\n",
      "Epoch 72/100\n",
      "7398/7398 [==============================] - 35s 5ms/sample - loss: 13.7340 - val_loss: 11.4815\n",
      "Epoch 73/100\n",
      "7398/7398 [==============================] - 34s 5ms/sample - loss: 12.0544 - val_loss: 12.9138\n",
      "Epoch 74/100\n",
      "7398/7398 [==============================] - 34s 5ms/sample - loss: 12.6261 - val_loss: 11.2976\n",
      "Epoch 75/100\n",
      "7380/7398 [============================>.] - ETA: 0s - loss: 12.9697\n",
      "Epoch 00075: loss improved from 13.23673 to 12.95851, saving model to /workspace/checkpoint/cp-nfl-0075.ckpt\n",
      "7398/7398 [==============================] - 36s 5ms/sample - loss: 12.9585 - val_loss: 11.2037\n",
      "Epoch 76/100\n",
      "7398/7398 [==============================] - 34s 5ms/sample - loss: 11.8484 - val_loss: 12.9762\n",
      "Epoch 77/100\n",
      "7398/7398 [==============================] - 34s 5ms/sample - loss: 12.4700 - val_loss: 11.1589\n",
      "Epoch 78/100\n",
      "7398/7398 [==============================] - 34s 5ms/sample - loss: 12.2799 - val_loss: 13.6495\n",
      "Epoch 79/100\n",
      "7398/7398 [==============================] - 34s 5ms/sample - loss: 11.8405 - val_loss: 11.4296\n",
      "Epoch 80/100\n",
      "7380/7398 [============================>.] - ETA: 0s - loss: 12.0746\n",
      "Epoch 00080: loss improved from 12.95851 to 12.06433, saving model to /workspace/checkpoint/cp-nfl-0080.ckpt\n",
      "7398/7398 [==============================] - 36s 5ms/sample - loss: 12.0643 - val_loss: 13.6145\n",
      "Epoch 81/100\n",
      "7398/7398 [==============================] - 34s 5ms/sample - loss: 11.7304 - val_loss: 11.4930\n",
      "Epoch 82/100\n",
      "7398/7398 [==============================] - 34s 5ms/sample - loss: 11.6490 - val_loss: 13.5957\n",
      "Epoch 83/100\n",
      "7398/7398 [==============================] - 34s 5ms/sample - loss: 11.6124 - val_loss: 12.1439\n",
      "Epoch 84/100\n",
      "7398/7398 [==============================] - 35s 5ms/sample - loss: 11.1122 - val_loss: 13.6869\n",
      "Epoch 85/100\n",
      "7380/7398 [============================>.] - ETA: 0s - loss: 11.7009\n",
      "Epoch 00085: loss improved from 12.06433 to 11.76236, saving model to /workspace/checkpoint/cp-nfl-0085.ckpt\n",
      "7398/7398 [==============================] - 36s 5ms/sample - loss: 11.7624 - val_loss: 13.1737\n",
      "Epoch 86/100\n",
      "7398/7398 [==============================] - 34s 5ms/sample - loss: 11.7097 - val_loss: 29.7170\n",
      "Epoch 87/100\n",
      "7398/7398 [==============================] - 34s 5ms/sample - loss: 11.2966 - val_loss: 11.2900\n",
      "Epoch 88/100\n",
      "7398/7398 [==============================] - 34s 5ms/sample - loss: 11.7056 - val_loss: 10.9610\n",
      "Epoch 89/100\n",
      "7398/7398 [==============================] - 34s 5ms/sample - loss: 11.2061 - val_loss: 17.3802\n",
      "Epoch 90/100\n",
      "7380/7398 [============================>.] - ETA: 0s - loss: 11.7874\n",
      "Epoch 00090: loss did not improve from 11.76236\n",
      "7398/7398 [==============================] - 34s 5ms/sample - loss: 11.7851 - val_loss: 9.9381\n",
      "Epoch 91/100\n",
      "7398/7398 [==============================] - 35s 5ms/sample - loss: 10.9695 - val_loss: 11.1274\n",
      "Epoch 92/100\n",
      "7398/7398 [==============================] - 34s 5ms/sample - loss: 10.9879 - val_loss: 10.6731\n",
      "Epoch 93/100\n",
      "7398/7398 [==============================] - 35s 5ms/sample - loss: 10.7078 - val_loss: 9.7659\n",
      "Epoch 94/100\n",
      "7398/7398 [==============================] - 34s 5ms/sample - loss: 11.2968 - val_loss: 10.5278\n",
      "Epoch 95/100\n",
      "7380/7398 [============================>.] - ETA: 0s - loss: 10.9068\n",
      "Epoch 00095: loss improved from 11.76236 to 10.89487, saving model to /workspace/checkpoint/cp-nfl-0095.ckpt\n",
      "7398/7398 [==============================] - 36s 5ms/sample - loss: 10.8949 - val_loss: 10.2584\n",
      "Epoch 96/100\n",
      "7398/7398 [==============================] - 34s 5ms/sample - loss: 10.6481 - val_loss: 12.6117\n",
      "Epoch 97/100\n",
      "7398/7398 [==============================] - 34s 5ms/sample - loss: 10.2170 - val_loss: 15.1611\n",
      "Epoch 98/100\n",
      "7398/7398 [==============================] - 35s 5ms/sample - loss: 11.2814 - val_loss: 9.9915\n",
      "Epoch 99/100\n",
      "7398/7398 [==============================] - 34s 5ms/sample - loss: 10.3028 - val_loss: 12.9794\n",
      "Epoch 100/100\n",
      "7380/7398 [============================>.] - ETA: 0s - loss: 12.0453\n",
      "Epoch 00100: loss did not improve from 10.89487\n",
      "7398/7398 [==============================] - 35s 5ms/sample - loss: 12.0264 - val_loss: 9.7771\n",
      "7398/7398 [==============================] - 12s 2ms/sample - loss: 9.4339\n",
      "4932/4932 [==============================] - 8s 2ms/sample - loss: 9.7771\n",
      "Train: 9.434, Test: 9.777\n"
     ]
    },
    {
     "data": {
      "image/png": "[encoded data removed]",
      "text/plain": [
       "<Figure size 432x288 with 1 Axes>"
      ]
     },
     "metadata": {
      "needs_background": "light"
     },
     "output_type": "display_data"
    }
   ],
   "source": [
    "# Reference: https://machinelearningmastery.com/how-to-improve-neural-network-stability-and-modeling-performance-with-data-scaling/\n",
    "from tensorflow.python.keras.layers import Input, Dense, Conv2D, MaxPooling2D, Flatten\n",
    "from tensorflow.python.keras import Sequential\n",
    "from tensorflow.python.keras.regularizers import l1,l2\n",
    "\n",
    "from tensorflow.keras.optimizers import SGD, Adam\n",
    "from tensorflow.keras.callbacks import ModelCheckpoint\n",
    "\n",
    "batch_L =30\n",
    "epoch_L =100\n",
    "\n",
    "model = Sequential()\n",
    "'''\n",
    "model.add(Conv2D(32, (64, 64), kernel_regularizer=l2(0.01), activation='relu', input_shape=(176, 192, 9), padding='same'))\n",
    "model.add(MaxPooling2D(pool_size=(2, 2)))\n",
    "\n",
    "model.add(Conv2D(64, (32, 32), kernel_regularizer=l2(0.01), activation='relu', padding='same'))\n",
    "model.add(MaxPooling2D(pool_size=(2, 2)))\n",
    "\n",
    "model.add(Conv2D(64, (16, 16), kernel_regularizer=l2(0.01), activation='relu', padding='same'))\n",
    "model.add(MaxPooling2D(pool_size=(2, 2)))\n",
    "\n",
    "model.add(Conv2D(128, (8, 8), kernel_regularizer=l2(0.01), activation='relu', padding='same'))\n",
    "model.add(MaxPooling2D(pool_size=(2, 2)))\n",
    "\n",
    "model.add(Conv2D(512, (4, 4), kernel_regularizer=l2(0.01), activation='relu', padding='same'))\n",
    "model.add(MaxPooling2D(pool_size=(2, 2)))\n",
    "'''\n",
    "\n",
    "\n",
    "'''\n",
    "model.add( Conv2D(16, (32, 32), kernel_regularizer=l2(0.01), activation='relu', input_shape=(176, 192, 9), padding='same'))\n",
    "model.add(MaxPooling2D(pool_size=(2, 2)))\n",
    "\n",
    "model.add(Conv2D(32, (32, 32), kernel_regularizer=l2(0.01), activation='relu', padding='same'))\n",
    "\n",
    "model.add(Conv2D(32, (32, 32), kernel_regularizer=l2(0.01), activation='relu', padding='same'))\n",
    "model.add(MaxPooling2D(pool_size=(2, 2)))\n",
    "\n",
    "model.add(Conv2D(64, (16, 16), kernel_regularizer=l2(0.01), activation='relu', padding='same'))\n",
    "model.add(MaxPooling2D(pool_size=(2, 2)))\n",
    "\n",
    "model.add(Conv2D(128, (8, 8), kernel_regularizer=l2(0.01), activation='relu', padding='same'))\n",
    "model.add(MaxPooling2D(pool_size=(2, 2)))\n",
    "\n",
    "model.add(Flatten())\n",
    "model.add(Dense(1, kernel_regularizer=l2(0.01), bias_regularizer=l2(0.01), activation='linear'))\n",
    "'''\n",
    "\n",
    "'''\n",
    "model.add( Conv2D(16, (64, 64), kernel_regularizer=l2(0.01), activation='relu', input_shape=(176, 192, 9), padding='same'))\n",
    "model.add(MaxPooling2D(pool_size=(2, 2)))\n",
    "\n",
    "model.add(Conv2D(32, (32, 32), kernel_regularizer=l2(0.01), activation='relu', padding='same'))\n",
    "\n",
    "model.add(Conv2D(32, (32, 32), kernel_regularizer=l2(0.01), activation='relu', padding='same'))\n",
    "\n",
    "model.add(Conv2D(32, (32, 32), kernel_regularizer=l2(0.01), activation='relu', padding='same'))\n",
    "model.add(MaxPooling2D(pool_size=(2, 2)))\n",
    "\n",
    "model.add(Conv2D(64, (16, 16), kernel_regularizer=l2(0.01), activation='relu', padding='same'))\n",
    "model.add(MaxPooling2D(pool_size=(2, 2)))\n",
    "\n",
    "model.add(Conv2D(128, (8, 8), kernel_regularizer=l2(0.01), activation='relu', padding='same'))\n",
    "model.add(MaxPooling2D(pool_size=(2, 2)))\n",
    "'''\n",
    "\n",
    "model.add( Conv2D(32, (64, 64), kernel_regularizer=l2(0.01), activation='relu', input_shape=(176, 192, 9), padding='same'))\n",
    "model.add(MaxPooling2D(pool_size=(2, 2)))\n",
    "\n",
    "model.add(Conv2D(64, (32, 32), kernel_regularizer=l2(0.01), activation='relu', padding='same'))\n",
    "\n",
    "model.add(Conv2D(64, (32, 32), kernel_regularizer=l2(0.01), activation='relu', padding='same'))\n",
    "\n",
    "model.add(Conv2D(128, (32, 32), kernel_regularizer=l2(0.01), activation='relu', padding='same'))\n",
    "model.add(MaxPooling2D(pool_size=(2, 2)))\n",
    "\n",
    "model.add(Conv2D(128, (16, 16), kernel_regularizer=l2(0.01), activation='relu', padding='same'))\n",
    "model.add(MaxPooling2D(pool_size=(2, 2)))\n",
    "\n",
    "model.add(Conv2D(256, (8, 8), kernel_regularizer=l2(0.01), activation='relu', padding='same'))\n",
    "model.add(MaxPooling2D(pool_size=(2, 2)))\n",
    "\n",
    "model.add(Flatten())\n",
    "#model.add(Dense(1, kernel_regularizer=l2(0.01), bias_regularizer=l2(0.01), activation='linear'))\n",
    "model.add(Dense(1, kernel_regularizer=l2(0.01), activation='linear'))\n",
    "\n",
    "#sgd = SGD(lr=0.01, decay=1e-6, momentum=0.9, nesterov=True)\n",
    "adam = Adam(lr=0.001)\n",
    "\n",
    "model.compile(loss='mean_squared_error', optimizer=adam)\n",
    "\n",
    "# checkpoint\n",
    "# Include the epoch in the file name (uses `str.format`)\n",
    "checkpoint_path = '/workspace/checkpoint/cp-nfl-{epoch:04d}.ckpt'\n",
    "checkpoint_dir = os.path.dirname(checkpoint_path)\n",
    "print(checkpoint_dir)\n",
    "checkpoint = ModelCheckpoint(filepath=checkpoint_path, monitor='loss', verbose=1,\n",
    "    save_best_only=True, mode='auto', period=5)\n",
    "\n",
    "# Loads the weights\n",
    "#initial_weight_path = '/workspace/checkpoint/cp-nfl-0100-l2-100epoch.ckpt'\n",
    "initial_weight_path = '/workspace/checkpoint/cp-nfl-0025_l2_before_overfit_85epoch.ckpt'\n",
    "#model.load_weights(initial_weight_path)\n",
    "\n",
    "\n",
    "# history = model.fit(xTrain, yTrain, batch_size=batch_L, epochs=epoch_L)\n",
    "history = model.fit(xTrain, yTrain, batch_size=batch_L, epochs=epoch_L, \n",
    "                    callbacks=[checkpoint], validation_data=(xTest, yTest))\n",
    " \n",
    "\n",
    "train_mse = model.evaluate(xTrain, yTrain, batch_size=batch_L)\n",
    "test_mse = model.evaluate(xTest, yTest, batch_size=batch_L)\n",
    "\n",
    "print('Train: %.3f, Test: %.3f' % (train_mse, test_mse))\n",
    "# plot loss during training\n",
    "plt.title('Loss / Mean Squared Error')\n",
    "plt.plot(history.history['loss'], label='train')\n",
    "plt.plot(history.history['val_loss'], label='validation')\n",
    "\n",
    "\n",
    "\n",
    "\n",
    "plt.legend()\n",
    "plt.show()\n"
   ]
  },
  {
   "cell_type": "code",
   "execution_count": 11,
   "metadata": {},
   "outputs": [],
   "source": [
    "# Loads the weights\n",
    "initial_weight_path = '/workspace/checkpoint/cp-nfl-0025_l2_before_overfit_85epoch.ckpt'\n",
    "#'cp-nfl-0025_l2_before_overfit_85epoch.ckp'\n",
    "model.load_weights(initial_weight_path)"
   ]
  },
  {
   "cell_type": "code",
   "execution_count": 12,
   "metadata": {},
   "outputs": [],
   "source": [
    "trainloss=history.history['loss']\n",
    "valloss=history.history['val_loss']\n"
   ]
  },
  {
   "cell_type": "code",
   "execution_count": 21,
   "metadata": {},
   "outputs": [
    {
     "data": {
      "text/plain": [
       "Text(0, 0.5, 'loss/Mean Squared Error')"
      ]
     },
     "execution_count": 21,
     "metadata": {},
     "output_type": "execute_result"
    },
    {
     "data": {
      "image/png": "[encoded data removed]",
      "text/plain": [
       "<Figure size 432x288 with 1 Axes>"
      ]
     },
     "metadata": {
      "needs_background": "light"
     },
     "output_type": "display_data"
    }
   ],
   "source": [
    "train_loss,=plt.plot(trainloss[18:],'b', label='train_loss')\n",
    "val_loss,=plt.plot(valloss[18:],'r', label='val_loss')\n",
    "plt.legend(handles=[train_loss, val_loss])\n",
    "plt.xlabel('epoch')\n",
    "plt.ylabel('loss/Mean Squared Error')"
   ]
  },
  {
   "cell_type": "code",
   "execution_count": 14,
   "metadata": {},
   "outputs": [
    {
     "data": {
      "text/plain": [
       "[<matplotlib.lines.Line2D at 0x7efba47bbf28>]"
      ]
     },
     "execution_count": 14,
     "metadata": {},
     "output_type": "execute_result"
    },
    {
     "data": {
      "image/png": "[encoded data removed]",
      "text/plain": [
       "<Figure size 432x288 with 1 Axes>"
      ]
     },
     "metadata": {
      "needs_background": "light"
     },
     "output_type": "display_data"
    }
   ],
   "source": [
    "plt.title('Loss / Mean Squared Error')\n",
    "plt.plot(history.history['loss'], label='train')\n"
   ]
  },
  {
   "cell_type": "code",
   "execution_count": 15,
   "metadata": {},
   "outputs": [
    {
     "data": {
      "text/plain": [
       "[<matplotlib.lines.Line2D at 0x7efba4764208>]"
      ]
     },
     "execution_count": 15,
     "metadata": {},
     "output_type": "execute_result"
    },
    {
     "data": {
      "image/png": "[encoded data removed]",
      "text/plain": [
       "<Figure size 432x288 with 1 Axes>"
      ]
     },
     "metadata": {
      "needs_background": "light"
     },
     "output_type": "display_data"
    }
   ],
   "source": [
    "plt.plot(history.history['val_loss'], label='validation')"
   ]
  },
  {
   "cell_type": "code",
   "execution_count": 16,
   "metadata": {},
   "outputs": [
    {
     "data": {
      "text/plain": [
       "array([72.751724, 69.93015 , 71.106964, ..., 71.67038 , 70.52721 ,\n",
       "       70.52721 ], dtype=float32)"
      ]
     },
     "execution_count": 16,
     "metadata": {},
     "output_type": "execute_result"
    }
   ],
   "source": [
    "range_monitor = range(200,300)\n",
    "ynew = model.predict(xTest[range_monitor])\n",
    "\n",
    "ynew_rescale=np.exp(ynew/20) -30\n",
    "yTest_rescale=np.exp(yTest/20) -30\n",
    "\n",
    "np.log(data_label_sub+30)*20\n"
   ]
  },
  {
   "cell_type": "code",
   "execution_count": 17,
   "metadata": {},
   "outputs": [
    {
     "data": {
      "text/plain": [
       "Text(0, 0.5, 'yardage')"
      ]
     },
     "execution_count": 17,
     "metadata": {},
     "output_type": "execute_result"
    },
    {
     "data": {
      "image/png": "[encoded data removed]",
      "text/plain": [
       "<Figure size 432x288 with 1 Axes>"
      ]
     },
     "metadata": {
      "needs_background": "light"
     },
     "output_type": "display_data"
    }
   ],
   "source": [
    "predicted,=plt.plot(ynew_rescale,'r', label='predicted')\n",
    "true_data,=plt.plot(yTest_rescale[range_monitor],'b', label='true_data')\n",
    "plt.legend(handles=[predicted, true_data])\n",
    "plt.xlabel('play id')\n",
    "plt.ylabel('yardage')\n",
    "\n"
   ]
  },
  {
   "cell_type": "code",
   "execution_count": 18,
   "metadata": {},
   "outputs": [
    {
     "data": {
      "text/plain": [
       "[<matplotlib.lines.Line2D at 0x7efba46b4a90>]"
      ]
     },
     "execution_count": 18,
     "metadata": {},
     "output_type": "execute_result"
    },
    {
     "data": {
      "image/png": "[encoded data removed]",
      "text/plain": [
       "<Figure size 432x288 with 1 Axes>"
      ]
     },
     "metadata": {
      "needs_background": "light"
     },
     "output_type": "display_data"
    }
   ],
   "source": [
    "plt.plot(ynew_rescale[0:len(range_monitor)],'b')"
   ]
  },
  {
   "cell_type": "code",
   "execution_count": 19,
   "metadata": {},
   "outputs": [
    {
     "data": {
      "text/plain": [
       "[<matplotlib.lines.Line2D at 0x7efba4616940>]"
      ]
     },
     "execution_count": 19,
     "metadata": {},
     "output_type": "execute_result"
    },
    {
     "data": {
      "image/png": "[encoded data removed]",
      "text/plain": [
       "<Figure size 432x288 with 1 Axes>"
      ]
     },
     "metadata": {
      "needs_background": "light"
     },
     "output_type": "display_data"
    }
   ],
   "source": [
    "plt.plot(yTest_rescale[range_monitor],'b')"
   ]
  },
  {
   "cell_type": "code",
   "execution_count": 20,
   "metadata": {
    "colab": {
     "base_uri": "https://localhost:8080/",
     "height": 34
    },
    "colab_type": "code",
    "id": "T0wOVFyAoOr1",
    "outputId": "0bf7fe3f-c916-498c-d233-c7b87700d5e8"
   },
   "outputs": [],
   "source": [
    "# Loads the weights\n",
    "#checkpoint_path = '/workspace/cp-nfl-0100.ckpt'\n",
    "#model.load_weights(checkpoint_path)"
   ]
  }
 ],
 "metadata": {
  "accelerator": "GPU",
  "colab": {
   "collapsed_sections": [],
   "name": "NFL_big_databowl.ipynb",
   "provenance": [],
   "toc_visible": true
  },
  "kernelspec": {
   "display_name": "Python 3",
   "language": "python",
   "name": "python3"
  },
  "language_info": {
   "codemirror_mode": {
    "name": "ipython",
    "version": 3
   },
   "file_extension": ".py",
   "mimetype": "text/x-python",
   "name": "python",
   "nbconvert_exporter": "python",
   "pygments_lexer": "ipython3",
   "version": "3.6.8"
  }
 },
 "nbformat": 4,
 "nbformat_minor": 1
}
