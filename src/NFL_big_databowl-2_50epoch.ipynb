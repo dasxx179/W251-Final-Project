{
 "cells": [
  {
   "cell_type": "code",
   "execution_count": 1,
   "metadata": {
    "colab": {
     "base_uri": "https://localhost:8080/",
     "height": 51
    },
    "colab_type": "code",
    "id": "RRgWK_Jc8LNl",
    "outputId": "d86ea8c2-c2e5-41a3-8748-4e88007017aa"
   },
   "outputs": [
    {
     "name": "stdout",
     "output_type": "stream",
     "text": [
      "1.13.1\n"
     ]
    },
    {
     "name": "stderr",
     "output_type": "stream",
     "text": [
      "Using TensorFlow backend.\n"
     ]
    }
   ],
   "source": [
    "\n",
    "# https://blog.keras.io/building-autoencoders-in-keras.html\n",
    "\n",
    "# from google.colab import drive\n",
    "import cv2\n",
    "import os\n",
    "import numpy as np\n",
    "from matplotlib import pyplot as plt\n",
    "import pickle\n",
    "\n",
    "from pathlib import Path\n",
    "\n",
    "import tensorflow as tf\n",
    "from keras.callbacks import ModelCheckpoint\n",
    "print(tf.version.VERSION)\n",
    "\n",
    "#import keras\n",
    "%matplotlib inline\n",
    "\n",
    "\n",
    "\n",
    "# drive.mount(\"/content/gdrive\")\n",
    "\n",
    "#home_path='/content/gdrive/My Drive/w251/Final_project/20200328/'\n",
    "# home_path='/content/gdrive/My Drive/w251/Final_project/20200403/'\n",
    "\n",
    "## Select tensor input\n",
    "\n",
    "data_path = '/workspace/full_data.npy'\n",
    "\n",
    "# ## Select weight for knowledge transfer\n",
    "label_path = '/workspace/full_labels.npy'\n",
    "\n",
    "\n"
   ]
  },
  {
   "cell_type": "code",
   "execution_count": 2,
   "metadata": {
    "colab": {},
    "colab_type": "code",
    "id": "wR8fEIyb2rjn"
   },
   "outputs": [],
   "source": [
    "def npy_load_data(data_path):\n",
    "  imgPath = Path(data_path)\n",
    "  sampleData = []\n",
    "  with imgPath.open('rb') as f:\n",
    "    \n",
    "    fsz = os.fstat(f.fileno()).st_size\n",
    "#     print(fsz)\n",
    "    out = np.load(f)\n",
    "    sampleData.append(out)\n",
    "    while f.tell() < 15000000000:\n",
    "        sampleData.append(np.load(f))\n",
    "  sampleData = np.asarray(sampleData)\n",
    "  print(sampleData.shape) \n",
    "  return sampleData\n",
    "\n",
    "def npy_load_label(data_path):\n",
    "  imgPath = Path(data_path)\n",
    "  sampleData = []\n",
    "  with imgPath.open('rb') as f:\n",
    "    \n",
    "    fsz = os.fstat(f.fileno()).st_size\n",
    "#     print(fsz)\n",
    "    out = np.load(f)\n",
    "    sampleData.append(out)\n",
    "    while f.tell() < fsz:\n",
    "        sampleData.append(np.load(f))\n",
    "  sampleData = np.asarray(sampleData)\n",
    "  print(sampleData.shape) \n",
    "  return sampleData"
   ]
  },
  {
   "cell_type": "code",
   "execution_count": 3,
   "metadata": {
    "colab": {
     "base_uri": "https://localhost:8080/",
     "height": 51
    },
    "colab_type": "code",
    "id": "2eEuIg1DR4_Z",
    "outputId": "e741abd6-025f-4cfb-ab25-13d43847e5c4",
    "scrolled": true
   },
   "outputs": [
    {
     "name": "stdout",
     "output_type": "stream",
     "text": [
      "(12330, 176, 192, 9)\n",
      "(30467,)\n"
     ]
    },
    {
     "data": {
      "text/plain": [
       "(12330,)"
      ]
     },
     "execution_count": 3,
     "metadata": {},
     "output_type": "execute_result"
    }
   ],
   "source": [
    "data_train=npy_load_data(data_path)\n",
    "data_label=npy_load_label(label_path)\n",
    "\n",
    "data_label_sub = data_label[0:data_train.shape[0]]\n",
    "data_label_sub.shape\n",
    "\n",
    "# data_train=np.load('full_data.npy')\n",
    "# data_label=np.load('full_labels.npy')\n",
    "# data_label"
   ]
  },
  {
   "cell_type": "code",
   "execution_count": 4,
   "metadata": {},
   "outputs": [
    {
     "data": {
      "text/plain": [
       "(12330, 176, 192, 9)"
      ]
     },
     "execution_count": 4,
     "metadata": {},
     "output_type": "execute_result"
    }
   ],
   "source": [
    "data_label_sub.shape\n",
    "data_train.shape"
   ]
  },
  {
   "cell_type": "code",
   "execution_count": 5,
   "metadata": {
    "colab": {},
    "colab_type": "code",
    "id": "0i_A85Ufn1oK"
   },
   "outputs": [],
   "source": [
    "data_train=data_train.astype('float32')\n",
    "data_label_sub = data_label_sub.astype('float32')\n",
    "data_label_sub_biased=np.log(data_label_sub+30)*20"
   ]
  },
  {
   "cell_type": "code",
   "execution_count": 6,
   "metadata": {},
   "outputs": [
    {
     "data": {
      "text/plain": [
       "(array([4.000e+00, 3.000e+01, 1.399e+03, 7.842e+03, 2.415e+03, 4.640e+02,\n",
       "        1.110e+02, 3.300e+01, 1.800e+01, 1.400e+01]),\n",
       " array([55.451775, 59.48158 , 63.511387, 67.54119 , 71.571   , 75.6008  ,\n",
       "        79.63061 , 83.660416, 87.69022 , 91.720024, 95.74983 ],\n",
       "       dtype=float32),\n",
       " <a list of 10 Patch objects>)"
      ]
     },
     "execution_count": 6,
     "metadata": {},
     "output_type": "execute_result"
    },
    {
     "data": {
      "image/png": "[encoded data removed]",
      "text/plain": [
       "<Figure size 432x288 with 1 Axes>"
      ]
     },
     "metadata": {
      "needs_background": "light"
     },
     "output_type": "display_data"
    }
   ],
   "source": [
    "plt.hist(data_label_sub)\n",
    "plt.hist(data_label_sub_biased)"
   ]
  },
  {
   "cell_type": "markdown",
   "metadata": {
    "colab_type": "text",
    "id": "Ov4wPqEo6pL4"
   },
   "source": [
    "## Split train and test data"
   ]
  },
  {
   "cell_type": "code",
   "execution_count": 7,
   "metadata": {
    "colab": {},
    "colab_type": "code",
    "id": "QFlwXKCr8XaJ"
   },
   "outputs": [],
   "source": [
    "data_train_in_norm=tf.keras.utils.normalize(data_train, axis = 3)"
   ]
  },
  {
   "cell_type": "code",
   "execution_count": 8,
   "metadata": {
    "colab": {},
    "colab_type": "code",
    "id": "lqOxJW3mAKeM"
   },
   "outputs": [],
   "source": [
    "from sklearn.model_selection import train_test_split\n",
    "# Train data normalization\n",
    "xTrain, xTest, yTrain, yTest = train_test_split(data_train_in_norm, data_label_sub_biased, test_size = 0.4, random_state = 123)\n"
   ]
  },
  {
   "cell_type": "markdown",
   "metadata": {
    "colab_type": "text",
    "id": "34x6V1WU8ZBK"
   },
   "source": [
    "## Data standarization"
   ]
  },
  {
   "cell_type": "code",
   "execution_count": 9,
   "metadata": {
    "colab": {
     "base_uri": "https://localhost:8080/",
     "height": 1000
    },
    "colab_type": "code",
    "id": "zj54UIu4n_D_",
    "outputId": "ea02df33-7055-4735-f2e1-326ee502c262"
   },
   "outputs": [
    {
     "name": "stdout",
     "output_type": "stream",
     "text": [
      "WARNING:tensorflow:From /opt/conda/lib/python3.6/site-packages/tensorflow/python/ops/resource_variable_ops.py:435: colocate_with (from tensorflow.python.framework.ops) is deprecated and will be removed in a future version.\n",
      "Instructions for updating:\n",
      "Colocations handled automatically by placer.\n",
      "WARNING:tensorflow:From /opt/conda/lib/python3.6/site-packages/tensorflow/python/keras/utils/losses_utils.py:170: to_float (from tensorflow.python.ops.math_ops) is deprecated and will be removed in a future version.\n",
      "Instructions for updating:\n",
      "Use tf.cast instead.\n",
      "/workspace/checkpoint\n",
      "Train on 7398 samples, validate on 4932 samples\n",
      "WARNING:tensorflow:From /opt/conda/lib/python3.6/site-packages/tensorflow/python/ops/math_ops.py:3066: to_int32 (from tensorflow.python.ops.math_ops) is deprecated and will be removed in a future version.\n",
      "Instructions for updating:\n",
      "Use tf.cast instead.\n",
      "Epoch 1/50\n",
      "7398/7398 [==============================] - 102s 14ms/sample - loss: 494324.6385 - val_loss: 18.7242\n",
      "Epoch 2/50\n",
      "7398/7398 [==============================] - 34s 5ms/sample - loss: 466.7058 - val_loss: 16.1856\n",
      "Epoch 3/50\n",
      "7398/7398 [==============================] - 34s 5ms/sample - loss: 16.6861 - val_loss: 15.0032\n",
      "Epoch 4/50\n",
      "7398/7398 [==============================] - 34s 5ms/sample - loss: 15.4661 - val_loss: 14.4110\n",
      "Epoch 5/50\n",
      "7380/7398 [============================>.] - ETA: 0s - loss: 14.9078\n",
      "Epoch 00005: loss improved from inf to 14.90748, saving model to /workspace/checkpoint/cp-nfl-0005.ckpt\n",
      "7398/7398 [==============================] - 36s 5ms/sample - loss: 14.9075 - val_loss: 16.1010\n",
      "Epoch 6/50\n",
      "7398/7398 [==============================] - 34s 5ms/sample - loss: 38.7722 - val_loss: 17.6679\n",
      "Epoch 7/50\n",
      "7398/7398 [==============================] - 34s 5ms/sample - loss: 16.3445 - val_loss: 14.9962\n",
      "Epoch 8/50\n",
      "7398/7398 [==============================] - 34s 5ms/sample - loss: 43823.5497 - val_loss: 104199.4159\n",
      "Epoch 9/50\n",
      "7398/7398 [==============================] - 34s 5ms/sample - loss: 2522156.7281 - val_loss: 37.2400\n",
      "Epoch 10/50\n",
      "7380/7398 [============================>.] - ETA: 0s - loss: 36.6032\n",
      "Epoch 00010: loss did not improve from 14.90748\n",
      "7398/7398 [==============================] - 34s 5ms/sample - loss: 36.6002 - val_loss: 36.0448\n",
      "Epoch 11/50\n",
      "7398/7398 [==============================] - 34s 5ms/sample - loss: 35.9500 - val_loss: 35.6575\n",
      "Epoch 12/50\n",
      "7398/7398 [==============================] - 34s 5ms/sample - loss: 35.5767 - val_loss: 36.1322\n",
      "Epoch 13/50\n",
      "7398/7398 [==============================] - 34s 5ms/sample - loss: 35.0244 - val_loss: 35.6002\n",
      "Epoch 14/50\n",
      "7398/7398 [==============================] - 34s 5ms/sample - loss: 34.7492 - val_loss: 34.4220\n",
      "Epoch 15/50\n",
      "7380/7398 [============================>.] - ETA: 0s - loss: 34.6367\n",
      "Epoch 00015: loss did not improve from 14.90748\n",
      "7398/7398 [==============================] - 34s 5ms/sample - loss: 34.6251 - val_loss: 34.0613\n",
      "Epoch 16/50\n",
      "7398/7398 [==============================] - 34s 5ms/sample - loss: 34.0756 - val_loss: 33.8687\n",
      "Epoch 17/50\n",
      "7398/7398 [==============================] - 34s 5ms/sample - loss: 33.7757 - val_loss: 33.5668\n",
      "Epoch 18/50\n",
      "7398/7398 [==============================] - 34s 5ms/sample - loss: 33.5105 - val_loss: 34.4772\n",
      "Epoch 19/50\n",
      "7398/7398 [==============================] - 34s 5ms/sample - loss: 33.3111 - val_loss: 33.0351\n",
      "Epoch 20/50\n",
      "7380/7398 [============================>.] - ETA: 0s - loss: 32.8872\n",
      "Epoch 00020: loss did not improve from 14.90748\n",
      "7398/7398 [==============================] - 34s 5ms/sample - loss: 32.8831 - val_loss: 33.0772\n",
      "Epoch 21/50\n",
      "7398/7398 [==============================] - 34s 5ms/sample - loss: 32.9839 - val_loss: 32.9589\n",
      "Epoch 22/50\n",
      "7398/7398 [==============================] - 34s 5ms/sample - loss: 32.5481 - val_loss: 32.9616\n",
      "Epoch 23/50\n",
      "7398/7398 [==============================] - 34s 5ms/sample - loss: 32.6361 - val_loss: 32.0561\n",
      "Epoch 24/50\n",
      "7398/7398 [==============================] - 34s 5ms/sample - loss: 32.0500 - val_loss: 32.0144\n",
      "Epoch 25/50\n",
      "7380/7398 [============================>.] - ETA: 0s - loss: 31.9929\n",
      "Epoch 00025: loss did not improve from 14.90748\n",
      "7398/7398 [==============================] - 34s 5ms/sample - loss: 31.9930 - val_loss: 33.3996\n",
      "Epoch 26/50\n",
      "7398/7398 [==============================] - 34s 5ms/sample - loss: 31.4802 - val_loss: 31.4483\n",
      "Epoch 27/50\n",
      "7398/7398 [==============================] - 34s 5ms/sample - loss: 31.5765 - val_loss: 31.0252\n",
      "Epoch 28/50\n",
      "7398/7398 [==============================] - 34s 5ms/sample - loss: 30.9351 - val_loss: 30.8974\n",
      "Epoch 29/50\n",
      "7398/7398 [==============================] - 34s 5ms/sample - loss: 31.0889 - val_loss: 37.4134\n",
      "Epoch 30/50\n",
      "7380/7398 [============================>.] - ETA: 0s - loss: 31.0846\n",
      "Epoch 00030: loss did not improve from 14.90748\n",
      "7398/7398 [==============================] - 34s 5ms/sample - loss: 31.0899 - val_loss: 30.6026\n",
      "Epoch 31/50\n",
      "7398/7398 [==============================] - 34s 5ms/sample - loss: 30.6733 - val_loss: 30.3313\n",
      "Epoch 32/50\n",
      "7398/7398 [==============================] - 34s 5ms/sample - loss: 30.0872 - val_loss: 29.9919\n",
      "Epoch 33/50\n",
      "7398/7398 [==============================] - 34s 5ms/sample - loss: 30.1851 - val_loss: 29.7731\n",
      "Epoch 34/50\n",
      "7398/7398 [==============================] - 34s 5ms/sample - loss: 36.8767 - val_loss: 37.8402\n",
      "Epoch 35/50\n",
      "7380/7398 [============================>.] - ETA: 0s - loss: 30.6532\n",
      "Epoch 00035: loss did not improve from 14.90748\n",
      "7398/7398 [==============================] - 34s 5ms/sample - loss: 30.6501 - val_loss: 30.5151\n",
      "Epoch 36/50\n",
      "7398/7398 [==============================] - 34s 5ms/sample - loss: 29.8814 - val_loss: 31.0335\n",
      "Epoch 37/50\n",
      "7398/7398 [==============================] - 34s 5ms/sample - loss: 29.2017 - val_loss: 29.3131\n",
      "Epoch 38/50\n",
      "7398/7398 [==============================] - 34s 5ms/sample - loss: 29.1988 - val_loss: 29.1267\n",
      "Epoch 39/50\n",
      "7398/7398 [==============================] - 34s 5ms/sample - loss: 115857.2206 - val_loss: 45.4278\n",
      "Epoch 40/50\n",
      "7380/7398 [============================>.] - ETA: 0s - loss: 44.8144\n",
      "Epoch 00040: loss did not improve from 14.90748\n",
      "7398/7398 [==============================] - 34s 5ms/sample - loss: 44.8075 - val_loss: 44.7498\n",
      "Epoch 41/50\n",
      "7398/7398 [==============================] - 34s 5ms/sample - loss: 155903.6423 - val_loss: 52.3415\n",
      "Epoch 42/50\n",
      "7398/7398 [==============================] - 34s 5ms/sample - loss: 51.7522 - val_loss: 51.8838\n",
      "Epoch 43/50\n",
      "7398/7398 [==============================] - 34s 5ms/sample - loss: 51.3703 - val_loss: 51.4651\n",
      "Epoch 44/50\n",
      "7398/7398 [==============================] - 34s 5ms/sample - loss: 50.9923 - val_loss: 51.0869\n",
      "Epoch 45/50\n",
      "7380/7398 [============================>.] - ETA: 0s - loss: 50.5864\n",
      "Epoch 00045: loss did not improve from 14.90748\n",
      "7398/7398 [==============================] - 34s 5ms/sample - loss: 50.6023 - val_loss: 50.9028\n",
      "Epoch 46/50\n",
      "7398/7398 [==============================] - 34s 5ms/sample - loss: 50.2417 - val_loss: 50.3297\n",
      "Epoch 47/50\n",
      "7398/7398 [==============================] - 34s 5ms/sample - loss: 49.9516 - val_loss: 49.9802\n",
      "Epoch 48/50\n",
      "7398/7398 [==============================] - 34s 5ms/sample - loss: 49.5558 - val_loss: 49.5984\n",
      "Epoch 49/50\n",
      "7398/7398 [==============================] - 34s 5ms/sample - loss: 49.1953 - val_loss: 49.2338\n",
      "Epoch 50/50\n",
      "7380/7398 [============================>.] - ETA: 0s - loss: 48.8058\n",
      "Epoch 00050: loss did not improve from 14.90748\n",
      "7398/7398 [==============================] - 34s 5ms/sample - loss: 48.8020 - val_loss: 48.8720\n",
      "7398/7398 [==============================] - 12s 2ms/sample - loss: 48.5353\n",
      "4932/4932 [==============================] - 8s 2ms/sample - loss: 48.8720\n",
      "Train: 48.535, Test: 48.872\n"
     ]
    },
    {
     "data": {
      "image/png": "[encoded data removed]",
      "text/plain": [
       "<Figure size 432x288 with 1 Axes>"
      ]
     },
     "metadata": {
      "needs_background": "light"
     },
     "output_type": "display_data"
    }
   ],
   "source": [
    "# Reference: https://machinelearningmastery.com/how-to-improve-neural-network-stability-and-modeling-performance-with-data-scaling/\n",
    "from tensorflow.python.keras.layers import Input, Dense, Conv2D, MaxPooling2D, Flatten\n",
    "from tensorflow.python.keras import Sequential\n",
    "from tensorflow.python.keras.regularizers import l1,l2\n",
    "\n",
    "from tensorflow.keras.optimizers import SGD, Adam\n",
    "from tensorflow.keras.callbacks import ModelCheckpoint\n",
    "\n",
    "batch_L =30\n",
    "epoch_L =50\n",
    "\n",
    "model = Sequential()\n",
    "\n",
    "model.add( Conv2D(32, (64, 64), kernel_regularizer=l2(0.01), activation='relu', input_shape=(176, 192, 9), padding='same'))\n",
    "model.add(MaxPooling2D(pool_size=(2, 2)))\n",
    "\n",
    "model.add(Conv2D(64, (32, 32), kernel_regularizer=l2(0.01), activation='relu', padding='same'))\n",
    "\n",
    "model.add(Conv2D(64, (32, 32), kernel_regularizer=l2(0.01), activation='relu', padding='same'))\n",
    "\n",
    "model.add(Conv2D(128, (32, 32), kernel_regularizer=l2(0.01), activation='relu', padding='same'))\n",
    "model.add(MaxPooling2D(pool_size=(2, 2)))\n",
    "\n",
    "model.add(Conv2D(128, (16, 16), kernel_regularizer=l2(0.01), activation='relu', padding='same'))\n",
    "model.add(MaxPooling2D(pool_size=(2, 2)))\n",
    "\n",
    "model.add(Conv2D(256, (8, 8), kernel_regularizer=l2(0.01), activation='relu', padding='same'))\n",
    "model.add(MaxPooling2D(pool_size=(2, 2)))\n",
    "\n",
    "model.add(Flatten())\n",
    "#model.add(Dense(1, kernel_regularizer=l2(0.01), bias_regularizer=l2(0.01), activation='linear'))\n",
    "model.add(Dense(1, kernel_regularizer=l2(0.01), activation='linear'))\n",
    "\n",
    "#sgd = SGD(lr=0.01, decay=1e-6, momentum=0.9, nesterov=True)\n",
    "adam = Adam(lr=0.001)\n",
    "\n",
    "model.compile(loss='mean_squared_error', optimizer=adam)\n",
    "\n",
    "# checkpoint\n",
    "# Include the epoch in the file name (uses `str.format`)\n",
    "checkpoint_path = '/workspace/checkpoint/cp-nfl-{epoch:04d}.ckpt'\n",
    "checkpoint_dir = os.path.dirname(checkpoint_path)\n",
    "print(checkpoint_dir)\n",
    "checkpoint = ModelCheckpoint(filepath=checkpoint_path, monitor='loss', verbose=1,\n",
    "    save_best_only=True, mode='auto', period=5)\n",
    "\n",
    "# Loads the weights\n",
    "#initial_weight_path = '/workspace/checkpoint/cp-nfl-0100-l2-100epoch.ckpt'\n",
    "initial_weight_path = '/workspace/checkpoint/cp-nfl-0050-l2_50epoch.ckpt'\n",
    "model.load_weights(initial_weight_path)\n",
    "\n",
    "\n",
    "# history = model.fit(xTrain, yTrain, batch_size=batch_L, epochs=epoch_L)\n",
    "history = model.fit(xTrain, yTrain, batch_size=batch_L, epochs=epoch_L, \n",
    "                    callbacks=[checkpoint], validation_data=(xTest, yTest))\n",
    " \n",
    "\n",
    "train_mse = model.evaluate(xTrain, yTrain, batch_size=batch_L)\n",
    "test_mse = model.evaluate(xTest, yTest, batch_size=batch_L)\n",
    "\n",
    "print('Train: %.3f, Test: %.3f' % (train_mse, test_mse))\n",
    "# plot loss during training\n",
    "plt.title('Loss / Mean Squared Error')\n",
    "plt.plot(history.history['loss'], label='train')\n",
    "plt.plot(history.history['val_loss'], label='validation')\n",
    "\n",
    "\n",
    "\n",
    "\n",
    "plt.legend()\n",
    "plt.show()"
   ]
  },
  {
   "cell_type": "code",
   "execution_count": 10,
   "metadata": {},
   "outputs": [],
   "source": [
    "# Loads the weights\n",
    "initial_weight_path = '/workspace/checkpoint/cp-nfl-0025_l2_before_overfit_85epoch.ckpt'\n",
    "#'cp-nfl-0025_l2_before_overfit_85epoch.ckp'\n",
    "model.load_weights(initial_weight_path)"
   ]
  },
  {
   "cell_type": "code",
   "execution_count": 11,
   "metadata": {},
   "outputs": [],
   "source": [
    "trainloss=history.history['loss']\n",
    "valloss=history.history['val_loss']\n"
   ]
  },
  {
   "cell_type": "code",
   "execution_count": 12,
   "metadata": {},
   "outputs": [
    {
     "data": {
      "text/plain": [
       "[<matplotlib.lines.Line2D at 0x7f8c2e158c88>]"
      ]
     },
     "execution_count": 12,
     "metadata": {},
     "output_type": "execute_result"
    },
    {
     "data": {
      "image/png": "[encoded data removed]",
      "text/plain": [
       "<Figure size 432x288 with 1 Axes>"
      ]
     },
     "metadata": {
      "needs_background": "light"
     },
     "output_type": "display_data"
    }
   ],
   "source": [
    "plt.plot(trainloss[3:],'b')\n",
    "plt.plot(valloss[3:],'r')"
   ]
  },
  {
   "cell_type": "code",
   "execution_count": null,
   "metadata": {},
   "outputs": [],
   "source": []
  },
  {
   "cell_type": "code",
   "execution_count": 1,
   "metadata": {},
   "outputs": [
    {
     "ename": "NameError",
     "evalue": "name 'plt' is not defined",
     "output_type": "error",
     "traceback": [
      "\u001b[0;31m---------------------------------------------------------------------------\u001b[0m",
      "\u001b[0;31mNameError\u001b[0m                                 Traceback (most recent call last)",
      "\u001b[0;32m<ipython-input-1-0041dd96cd0c>\u001b[0m in \u001b[0;36m<module>\u001b[0;34m\u001b[0m\n\u001b[0;32m----> 1\u001b[0;31m \u001b[0mplt\u001b[0m\u001b[0;34m.\u001b[0m\u001b[0mtitle\u001b[0m\u001b[0;34m(\u001b[0m\u001b[0;34m'Loss / Mean Squared Error'\u001b[0m\u001b[0;34m)\u001b[0m\u001b[0;34m\u001b[0m\u001b[0;34m\u001b[0m\u001b[0m\n\u001b[0m\u001b[1;32m      2\u001b[0m \u001b[0mplt\u001b[0m\u001b[0;34m.\u001b[0m\u001b[0mplot\u001b[0m\u001b[0;34m(\u001b[0m\u001b[0mhistory\u001b[0m\u001b[0;34m.\u001b[0m\u001b[0mhistory\u001b[0m\u001b[0;34m[\u001b[0m\u001b[0;34m'loss'\u001b[0m\u001b[0;34m]\u001b[0m\u001b[0;34m,\u001b[0m \u001b[0mlabel\u001b[0m\u001b[0;34m=\u001b[0m\u001b[0;34m'train'\u001b[0m\u001b[0;34m)\u001b[0m\u001b[0;34m\u001b[0m\u001b[0;34m\u001b[0m\u001b[0m\n",
      "\u001b[0;31mNameError\u001b[0m: name 'plt' is not defined"
     ]
    }
   ],
   "source": [
    "plt.title('Loss / Mean Squared Error')\n",
    "plt.plot(history.history['loss'], label='train')\n"
   ]
  },
  {
   "cell_type": "code",
   "execution_count": 14,
   "metadata": {},
   "outputs": [
    {
     "data": {
      "text/plain": [
       "[<matplotlib.lines.Line2D at 0x7f8a9c4e3eb8>]"
      ]
     },
     "execution_count": 14,
     "metadata": {},
     "output_type": "execute_result"
    },
    {
     "data": {
      "image/png": "[encoded data removed]",
      "text/plain": [
       "<Figure size 432x288 with 1 Axes>"
      ]
     },
     "metadata": {
      "needs_background": "light"
     },
     "output_type": "display_data"
    }
   ],
   "source": [
    "plt.plot(history.history['val_loss'], label='validation')"
   ]
  },
  {
   "cell_type": "code",
   "execution_count": 15,
   "metadata": {},
   "outputs": [],
   "source": [
    "ynew = model.predict(xTest[0:200])\n"
   ]
  },
  {
   "cell_type": "code",
   "execution_count": 16,
   "metadata": {},
   "outputs": [
    {
     "data": {
      "text/plain": [
       "[<matplotlib.lines.Line2D at 0x7f8a9c49df98>]"
      ]
     },
     "execution_count": 16,
     "metadata": {},
     "output_type": "execute_result"
    },
    {
     "data": {
      "image/png": "[encoded data removed]",
      "text/plain": [
       "<Figure size 432x288 with 1 Axes>"
      ]
     },
     "metadata": {
      "needs_background": "light"
     },
     "output_type": "display_data"
    }
   ],
   "source": [
    "plt.plot(ynew[0:200],'r')\n",
    "plt.plot(yTest[0:200],'b')"
   ]
  },
  {
   "cell_type": "code",
   "execution_count": 17,
   "metadata": {},
   "outputs": [
    {
     "data": {
      "text/plain": [
       "[<matplotlib.lines.Line2D at 0x7f8a9c432fd0>]"
      ]
     },
     "execution_count": 17,
     "metadata": {},
     "output_type": "execute_result"
    },
    {
     "data": {
      "image/png": "[encoded data removed]",
      "text/plain": [
       "<Figure size 432x288 with 1 Axes>"
      ]
     },
     "metadata": {
      "needs_background": "light"
     },
     "output_type": "display_data"
    }
   ],
   "source": [
    "plt.plot(yTest[0:200],'b')"
   ]
  },
  {
   "cell_type": "code",
   "execution_count": 18,
   "metadata": {},
   "outputs": [
    {
     "data": {
      "text/plain": [
       "[<matplotlib.lines.Line2D at 0x7f8a9c3a3518>]"
      ]
     },
     "execution_count": 18,
     "metadata": {},
     "output_type": "execute_result"
    },
    {
     "data": {
      "image/png": "[encoded data removed]",
      "text/plain": [
       "<Figure size 432x288 with 1 Axes>"
      ]
     },
     "metadata": {
      "needs_background": "light"
     },
     "output_type": "display_data"
    }
   ],
   "source": [
    "plt.plot(ynew[0:200],'b')"
   ]
  },
  {
   "cell_type": "code",
   "execution_count": 19,
   "metadata": {
    "colab": {
     "base_uri": "https://localhost:8080/",
     "height": 34
    },
    "colab_type": "code",
    "id": "T0wOVFyAoOr1",
    "outputId": "0bf7fe3f-c916-498c-d233-c7b87700d5e8"
   },
   "outputs": [],
   "source": [
    "# Loads the weights\n",
    "#checkpoint_path = '/workspace/cp-nfl-0100.ckpt'\n",
    "#model.load_weights(checkpoint_path)"
   ]
  },
  {
   "cell_type": "code",
   "execution_count": null,
   "metadata": {},
   "outputs": [],
   "source": []
  }
 ],
 "metadata": {
  "accelerator": "GPU",
  "colab": {
   "collapsed_sections": [],
   "name": "NFL_big_databowl.ipynb",
   "provenance": [],
   "toc_visible": true
  },
  "kernelspec": {
   "display_name": "Python 3",
   "language": "python",
   "name": "python3"
  },
  "language_info": {
   "codemirror_mode": {
    "name": "ipython",
    "version": 3
   },
   "file_extension": ".py",
   "mimetype": "text/x-python",
   "name": "python",
   "nbconvert_exporter": "python",
   "pygments_lexer": "ipython3",
   "version": "3.6.8"
  }
 },
 "nbformat": 4,
 "nbformat_minor": 1
}
