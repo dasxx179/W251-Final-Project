{
 "cells": [
  {
   "cell_type": "code",
   "execution_count": 1,
   "metadata": {
    "colab": {
     "base_uri": "https://localhost:8080/",
     "height": 51
    },
    "colab_type": "code",
    "id": "RRgWK_Jc8LNl",
    "outputId": "d86ea8c2-c2e5-41a3-8748-4e88007017aa"
   },
   "outputs": [
    {
     "name": "stdout",
     "output_type": "stream",
     "text": [
      "1.13.1\n"
     ]
    },
    {
     "name": "stderr",
     "output_type": "stream",
     "text": [
      "Using TensorFlow backend.\n"
     ]
    }
   ],
   "source": [
    "\n",
    "# https://blog.keras.io/building-autoencoders-in-keras.html\n",
    "\n",
    "# from google.colab import drive\n",
    "import cv2\n",
    "import os\n",
    "import numpy as np\n",
    "from matplotlib import pyplot as plt\n",
    "import pickle\n",
    "\n",
    "from pathlib import Path\n",
    "\n",
    "import tensorflow as tf\n",
    "from keras.callbacks import ModelCheckpoint\n",
    "print(tf.version.VERSION)\n",
    "\n",
    "#import keras\n",
    "%matplotlib inline\n",
    "\n",
    "\n",
    "\n",
    "# drive.mount(\"/content/gdrive\")\n",
    "\n",
    "#home_path='/content/gdrive/My Drive/w251/Final_project/20200328/'\n",
    "# home_path='/content/gdrive/My Drive/w251/Final_project/20200403/'\n",
    "\n",
    "## Select tensor input\n",
    "\n",
    "data_path = '/workspace/full_data.npy'\n",
    "\n",
    "# ## Select weight for knowledge transfer\n",
    "label_path = '/workspace/full_labels.npy'\n",
    "\n",
    "\n"
   ]
  },
  {
   "cell_type": "code",
   "execution_count": 2,
   "metadata": {
    "colab": {},
    "colab_type": "code",
    "id": "wR8fEIyb2rjn"
   },
   "outputs": [],
   "source": [
    "def npy_load_data(data_path):\n",
    "  imgPath = Path(data_path)\n",
    "  sampleData = []\n",
    "  with imgPath.open('rb') as f:\n",
    "    \n",
    "    fsz = os.fstat(f.fileno()).st_size\n",
    "#     print(fsz)\n",
    "#     sampleData.append(out)\n",
    "\n",
    "# Second pass through\n",
    "\n",
    "    while f.tell() < 15000000000:\n",
    "        np.load(f)\n",
    "    \n",
    "    while f.tell() >= 15000000000 and f.tell() < 30000000000:\n",
    "        sampleData.append(np.load(f))\n",
    "\n",
    "# Third pass through\n",
    "\n",
    "#     while f.tell() < 30000000000:\n",
    "#         np.load(f)\n",
    "#     while f.tell() > 30000000000:\n",
    "#         sampleData.append(np.load(f))\n",
    "\n",
    "\n",
    "  sampleData = np.asarray(sampleData)\n",
    "  print(sampleData.shape) \n",
    "  return sampleData\n",
    "\n",
    "def npy_load_label(data_path):\n",
    "  imgPath = Path(data_path)\n",
    "  sampleData = []\n",
    "  with imgPath.open('rb') as f:\n",
    "    \n",
    "    fsz = os.fstat(f.fileno()).st_size\n",
    "#     print(fsz)\n",
    "    out = np.load(f)\n",
    "    sampleData.append(out)\n",
    "    while f.tell() < fsz:\n",
    "        sampleData.append(np.load(f))\n",
    "        \n",
    "\n",
    "  sampleData = np.asarray(sampleData)\n",
    "  print(sampleData.shape) \n",
    "  return sampleData"
   ]
  },
  {
   "cell_type": "code",
   "execution_count": 3,
   "metadata": {
    "colab": {
     "base_uri": "https://localhost:8080/",
     "height": 51
    },
    "colab_type": "code",
    "id": "2eEuIg1DR4_Z",
    "outputId": "e741abd6-025f-4cfb-ab25-13d43847e5c4",
    "scrolled": true
   },
   "outputs": [
    {
     "name": "stdout",
     "output_type": "stream",
     "text": [
      "(12329, 176, 192, 9)\n",
      "(30467,)\n"
     ]
    },
    {
     "data": {
      "text/plain": [
       "(12329,)"
      ]
     },
     "execution_count": 3,
     "metadata": {},
     "output_type": "execute_result"
    }
   ],
   "source": [
    "data_train=npy_load_data(data_path)\n",
    "data_label=npy_load_label(label_path)\n",
    "\n",
    "data_label_sub = data_label[0:data_train.shape[0]]\n",
    "data_label_sub.shape\n",
    "\n",
    "# data_train=np.load('full_data.npy')\n",
    "# data_label=np.load('full_labels.npy')\n",
    "# data_label"
   ]
  },
  {
   "cell_type": "code",
   "execution_count": 4,
   "metadata": {},
   "outputs": [
    {
     "data": {
      "text/plain": [
       "(12329, 176, 192, 9)"
      ]
     },
     "execution_count": 4,
     "metadata": {},
     "output_type": "execute_result"
    }
   ],
   "source": [
    "data_label_sub.shape\n",
    "data_train.shape"
   ]
  },
  {
   "cell_type": "code",
   "execution_count": 5,
   "metadata": {},
   "outputs": [],
   "source": [
    "data_label_sub = data_label[12330:24659]\n",
    "# data_label_sub = data_label[24660:]"
   ]
  },
  {
   "cell_type": "code",
   "execution_count": 6,
   "metadata": {},
   "outputs": [
    {
     "data": {
      "text/plain": [
       "(12329,)"
      ]
     },
     "execution_count": 6,
     "metadata": {},
     "output_type": "execute_result"
    }
   ],
   "source": [
    "data_label_sub.shape"
   ]
  },
  {
   "cell_type": "code",
   "execution_count": 7,
   "metadata": {
    "colab": {},
    "colab_type": "code",
    "id": "0i_A85Ufn1oK"
   },
   "outputs": [],
   "source": [
    "data_train=data_train.astype('float32')\n",
    "data_label_sub = data_label_sub.astype('float32')\n",
    "data_label_sub_biased=np.log(data_label_sub+30)*20"
   ]
  },
  {
   "cell_type": "code",
   "execution_count": 8,
   "metadata": {},
   "outputs": [
    {
     "data": {
      "text/plain": [
       "Text(0, 0.5, 'Frequency')"
      ]
     },
     "execution_count": 8,
     "metadata": {},
     "output_type": "execute_result"
    },
    {
     "data": {
      "image/png": "[encoded data removed]",
      "text/plain": [
       "<Figure size 432x288 with 1 Axes>"
      ]
     },
     "metadata": {
      "needs_background": "light"
     },
     "output_type": "display_data"
    }
   ],
   "source": [
    "plt.hist(data_label_sub)\n",
    "plt.hist(data_label_sub_biased)\n",
    "\n",
    "plt.legend(['raw_label', 'retularized_label'])\n",
    "plt.xlabel('Yardage')\n",
    "plt.ylabel('Frequency')"
   ]
  },
  {
   "cell_type": "markdown",
   "metadata": {
    "colab_type": "text",
    "id": "Ov4wPqEo6pL4"
   },
   "source": [
    "## Split train and test data"
   ]
  },
  {
   "cell_type": "code",
   "execution_count": 9,
   "metadata": {
    "colab": {},
    "colab_type": "code",
    "id": "QFlwXKCr8XaJ"
   },
   "outputs": [],
   "source": [
    "data_train_in_norm=tf.keras.utils.normalize(data_train, axis = 3)"
   ]
  },
  {
   "cell_type": "code",
   "execution_count": 10,
   "metadata": {
    "colab": {},
    "colab_type": "code",
    "id": "lqOxJW3mAKeM"
   },
   "outputs": [],
   "source": [
    "from sklearn.model_selection import train_test_split\n",
    "# Train data normalization\n",
    "xTrain, xTest, yTrain, yTest = train_test_split(data_train_in_norm, data_label_sub_biased, test_size = 0.4, random_state = 123)\n"
   ]
  },
  {
   "cell_type": "code",
   "execution_count": 11,
   "metadata": {},
   "outputs": [
    {
     "data": {
      "text/plain": [
       "array([68.67974, 68.02395, 69.93015, 71.67038, 68.67974, 69.93015,\n",
       "       69.93015, 69.93015, 68.02395, 96.88374], dtype=float32)"
      ]
     },
     "execution_count": 11,
     "metadata": {},
     "output_type": "execute_result"
    }
   ],
   "source": [
    "yTest[0:10]"
   ]
  },
  {
   "cell_type": "markdown",
   "metadata": {
    "colab_type": "text",
    "id": "34x6V1WU8ZBK"
   },
   "source": [
    "## Data standarization"
   ]
  },
  {
   "cell_type": "code",
   "execution_count": 12,
   "metadata": {
    "colab": {
     "base_uri": "https://localhost:8080/",
     "height": 1000
    },
    "colab_type": "code",
    "id": "zj54UIu4n_D_",
    "outputId": "ea02df33-7055-4735-f2e1-326ee502c262"
   },
   "outputs": [
    {
     "name": "stdout",
     "output_type": "stream",
     "text": [
      "WARNING:tensorflow:From /opt/conda/lib/python3.6/site-packages/tensorflow/python/ops/resource_variable_ops.py:435: colocate_with (from tensorflow.python.framework.ops) is deprecated and will be removed in a future version.\n",
      "Instructions for updating:\n",
      "Colocations handled automatically by placer.\n",
      "WARNING:tensorflow:From /opt/conda/lib/python3.6/site-packages/tensorflow/python/keras/utils/losses_utils.py:170: to_float (from tensorflow.python.ops.math_ops) is deprecated and will be removed in a future version.\n",
      "Instructions for updating:\n",
      "Use tf.cast instead.\n",
      "/workspace/checkpoint\n",
      "Train on 7397 samples, validate on 4932 samples\n",
      "WARNING:tensorflow:From /opt/conda/lib/python3.6/site-packages/tensorflow/python/ops/math_ops.py:3066: to_int32 (from tensorflow.python.ops.math_ops) is deprecated and will be removed in a future version.\n",
      "Instructions for updating:\n",
      "Use tf.cast instead.\n",
      "Epoch 1/100\n",
      "7397/7397 [==============================] - 101s 14ms/sample - loss: 47.4947 - val_loss: 12.5331\n",
      "Epoch 2/100\n",
      "7397/7397 [==============================] - 34s 5ms/sample - loss: 12.8044 - val_loss: 11.9632\n",
      "Epoch 3/100\n",
      "7397/7397 [==============================] - 34s 5ms/sample - loss: 16.6837 - val_loss: 13.8423\n",
      "Epoch 4/100\n",
      "7397/7397 [==============================] - 34s 5ms/sample - loss: 13.7599 - val_loss: 13.4613\n",
      "Epoch 5/100\n",
      "7380/7397 [============================>.] - ETA: 0s - loss: 134.7395\n",
      "Epoch 00005: loss improved from inf to 134.53919, saving model to /workspace/checkpoint/cp-nfl-0005.ckpt\n",
      "7397/7397 [==============================] - 36s 5ms/sample - loss: 134.5392 - val_loss: 18.7789\n",
      "Epoch 6/100\n",
      "7397/7397 [==============================] - 34s 5ms/sample - loss: 18.1252 - val_loss: 17.6038\n",
      "Epoch 7/100\n",
      "7397/7397 [==============================] - 34s 5ms/sample - loss: 16.1237 - val_loss: 14.5893\n",
      "Epoch 8/100\n",
      "7397/7397 [==============================] - 34s 5ms/sample - loss: 15.0061 - val_loss: 13.8247\n",
      "Epoch 9/100\n",
      "7397/7397 [==============================] - 34s 5ms/sample - loss: 14.3113 - val_loss: 14.9647\n",
      "Epoch 10/100\n",
      "7380/7397 [============================>.] - ETA: 0s - loss: 14.0714\n",
      "Epoch 00010: loss improved from 134.53919 to 14.07170, saving model to /workspace/checkpoint/cp-nfl-0010.ckpt\n",
      "7397/7397 [==============================] - 34s 5ms/sample - loss: 14.0717 - val_loss: 13.3769\n",
      "Epoch 11/100\n",
      "7397/7397 [==============================] - 34s 5ms/sample - loss: 2422481.2401 - val_loss: 81.7336\n",
      "Epoch 12/100\n",
      "7397/7397 [==============================] - 34s 5ms/sample - loss: 84.0527 - val_loss: 82.5730\n",
      "Epoch 13/100\n",
      "7397/7397 [==============================] - 34s 5ms/sample - loss: 79.4766 - val_loss: 81.7070\n",
      "Epoch 14/100\n",
      "7397/7397 [==============================] - 34s 5ms/sample - loss: 77.3131 - val_loss: 80.1821\n",
      "Epoch 15/100\n",
      "7380/7397 [============================>.] - ETA: 0s - loss: 77.0356\n",
      "Epoch 00015: loss did not improve from 14.07170\n",
      "7397/7397 [==============================] - 34s 5ms/sample - loss: 77.0301 - val_loss: 74.8445\n",
      "Epoch 16/100\n",
      "7397/7397 [==============================] - 34s 5ms/sample - loss: 75.1968 - val_loss: 74.0229\n",
      "Epoch 17/100\n",
      "7397/7397 [==============================] - 34s 5ms/sample - loss: 74.6816 - val_loss: 73.4193\n",
      "Epoch 18/100\n",
      "7397/7397 [==============================] - 34s 5ms/sample - loss: 74.3049 - val_loss: 73.0884\n",
      "Epoch 19/100\n",
      "7397/7397 [==============================] - 34s 5ms/sample - loss: 73.1873 - val_loss: 77.7035\n",
      "Epoch 20/100\n",
      "7380/7397 [============================>.] - ETA: 0s - loss: 72.0980\n",
      "Epoch 00020: loss did not improve from 14.07170\n",
      "7397/7397 [==============================] - 34s 5ms/sample - loss: 72.0803 - val_loss: 72.8155\n",
      "Epoch 21/100\n",
      "7397/7397 [==============================] - 34s 5ms/sample - loss: 71.8159 - val_loss: 71.8853\n",
      "Epoch 22/100\n",
      "7397/7397 [==============================] - 34s 5ms/sample - loss: 86.2372 - val_loss: 72.4035\n",
      "Epoch 23/100\n",
      "7397/7397 [==============================] - 34s 5ms/sample - loss: 77.2836 - val_loss: 70.9261\n",
      "Epoch 24/100\n",
      "7397/7397 [==============================] - 34s 5ms/sample - loss: 70.0791 - val_loss: 70.3266\n",
      "Epoch 25/100\n",
      "7380/7397 [============================>.] - ETA: 0s - loss: 91992.8903\n",
      "Epoch 00025: loss did not improve from 14.07170\n",
      "7397/7397 [==============================] - 34s 5ms/sample - loss: 91781.6388 - val_loss: 79.3751\n",
      "Epoch 26/100\n",
      "7397/7397 [==============================] - 34s 5ms/sample - loss: 79.4684 - val_loss: 78.6596\n",
      "Epoch 27/100\n",
      "7397/7397 [==============================] - 34s 5ms/sample - loss: 21609.3894 - val_loss: 90.9093\n",
      "Epoch 28/100\n",
      "7397/7397 [==============================] - 34s 5ms/sample - loss: 80.9659 - val_loss: 79.9962\n",
      "Epoch 29/100\n",
      "7397/7397 [==============================] - 34s 5ms/sample - loss: 80.0757 - val_loss: 79.2668\n",
      "Epoch 30/100\n",
      "7380/7397 [============================>.] - ETA: 0s - loss: 79.4229\n",
      "Epoch 00030: loss did not improve from 14.07170\n",
      "7397/7397 [==============================] - 34s 5ms/sample - loss: 79.4159 - val_loss: 78.6390\n",
      "Epoch 31/100\n",
      "7397/7397 [==============================] - 34s 5ms/sample - loss: 78.8249 - val_loss: 78.0325\n",
      "Epoch 32/100\n",
      "7397/7397 [==============================] - 34s 5ms/sample - loss: 78.1566 - val_loss: 77.3695\n",
      "Epoch 33/100\n",
      "7397/7397 [==============================] - 34s 5ms/sample - loss: 77.4938 - val_loss: 76.7361\n",
      "Epoch 34/100\n",
      "7397/7397 [==============================] - 34s 5ms/sample - loss: 76.8579 - val_loss: 76.0254\n",
      "Epoch 35/100\n",
      "7380/7397 [============================>.] - ETA: 0s - loss: 76.2506\n",
      "Epoch 00035: loss did not improve from 14.07170\n",
      "7397/7397 [==============================] - 34s 5ms/sample - loss: 76.2414 - val_loss: 75.4797\n",
      "Epoch 36/100\n",
      "7397/7397 [==============================] - 34s 5ms/sample - loss: 75.5384 - val_loss: 74.7480\n",
      "Epoch 37/100\n",
      "7397/7397 [==============================] - 34s 5ms/sample - loss: 74.9175 - val_loss: 74.1237\n",
      "Epoch 38/100\n",
      "7397/7397 [==============================] - 34s 5ms/sample - loss: 74.1572 - val_loss: 73.3113\n",
      "Epoch 39/100\n",
      "7397/7397 [==============================] - 34s 5ms/sample - loss: 73.4743 - val_loss: 72.6254\n",
      "Epoch 40/100\n",
      "7380/7397 [============================>.] - ETA: 0s - loss: 72.9826\n",
      "Epoch 00040: loss did not improve from 14.07170\n",
      "7397/7397 [==============================] - 34s 5ms/sample - loss: 72.9736 - val_loss: 71.9158\n",
      "Epoch 41/100\n",
      "7397/7397 [==============================] - 34s 5ms/sample - loss: 72.0580 - val_loss: 71.9042\n",
      "Epoch 42/100\n",
      "7397/7397 [==============================] - 34s 5ms/sample - loss: 71.4439 - val_loss: 71.1564\n",
      "Epoch 43/100\n",
      "7397/7397 [==============================] - 34s 5ms/sample - loss: 70.8036 - val_loss: 70.3396\n",
      "Epoch 44/100\n",
      "7397/7397 [==============================] - 34s 5ms/sample - loss: 70.0182 - val_loss: 69.1023\n",
      "Epoch 45/100\n",
      "7380/7397 [============================>.] - ETA: 0s - loss: 69.1360\n",
      "Epoch 00045: loss did not improve from 14.07170\n",
      "7397/7397 [==============================] - 34s 5ms/sample - loss: 69.1925 - val_loss: 68.5461\n",
      "Epoch 46/100\n",
      "7397/7397 [==============================] - 34s 5ms/sample - loss: 68.3853 - val_loss: 67.4812\n",
      "Epoch 47/100\n",
      "7397/7397 [==============================] - 34s 5ms/sample - loss: 67.6677 - val_loss: 66.7145\n",
      "Epoch 48/100\n",
      "7397/7397 [==============================] - 34s 5ms/sample - loss: 66.7406 - val_loss: 66.0372\n",
      "Epoch 49/100\n",
      "7397/7397 [==============================] - 34s 5ms/sample - loss: 65.9515 - val_loss: 65.0004\n",
      "Epoch 50/100\n",
      "7380/7397 [============================>.] - ETA: 0s - loss: 65.0987\n",
      "Epoch 00050: loss did not improve from 14.07170\n",
      "7397/7397 [==============================] - 34s 5ms/sample - loss: 65.0862 - val_loss: 64.2420\n",
      "Epoch 51/100\n",
      "7397/7397 [==============================] - 34s 5ms/sample - loss: 64.2993 - val_loss: 63.2002\n",
      "Epoch 52/100\n",
      "7397/7397 [==============================] - 34s 5ms/sample - loss: 63.5764 - val_loss: 64.2545\n",
      "Epoch 53/100\n",
      "7397/7397 [==============================] - 34s 5ms/sample - loss: 62.7140 - val_loss: 61.4327\n",
      "Epoch 54/100\n",
      "7397/7397 [==============================] - 34s 5ms/sample - loss: 61.6119 - val_loss: 60.7830\n",
      "Epoch 55/100\n",
      "7380/7397 [============================>.] - ETA: 0s - loss: 60.8148\n",
      "Epoch 00055: loss did not improve from 14.07170\n",
      "7397/7397 [==============================] - 34s 5ms/sample - loss: 60.8027 - val_loss: 59.7020\n"
     ]
    },
    {
     "name": "stdout",
     "output_type": "stream",
     "text": [
      "Epoch 56/100\n",
      "7397/7397 [==============================] - 34s 5ms/sample - loss: 101.1370 - val_loss: 59.7703\n",
      "Epoch 57/100\n",
      "7397/7397 [==============================] - 34s 5ms/sample - loss: 59.4547 - val_loss: 58.5454\n",
      "Epoch 58/100\n",
      "7397/7397 [==============================] - 34s 5ms/sample - loss: 58.4450 - val_loss: 57.5223\n",
      "Epoch 59/100\n",
      "7397/7397 [==============================] - 34s 5ms/sample - loss: 57.4317 - val_loss: 56.5407\n",
      "Epoch 60/100\n",
      "7380/7397 [============================>.] - ETA: 0s - loss: 56.5265\n",
      "Epoch 00060: loss did not improve from 14.07170\n",
      "7397/7397 [==============================] - 34s 5ms/sample - loss: 56.5142 - val_loss: 55.2959\n",
      "Epoch 61/100\n",
      "7397/7397 [==============================] - 34s 5ms/sample - loss: 55.6702 - val_loss: 54.2898\n",
      "Epoch 62/100\n",
      "7397/7397 [==============================] - 34s 5ms/sample - loss: 54.2907 - val_loss: 53.2310\n",
      "Epoch 63/100\n",
      "7397/7397 [==============================] - 34s 5ms/sample - loss: 53.5324 - val_loss: 52.1484\n",
      "Epoch 64/100\n",
      "7397/7397 [==============================] - 34s 5ms/sample - loss: 52.2362 - val_loss: 52.2114\n",
      "Epoch 65/100\n",
      "7380/7397 [============================>.] - ETA: 0s - loss: 51.1971\n",
      "Epoch 00065: loss did not improve from 14.07170\n",
      "7397/7397 [==============================] - 34s 5ms/sample - loss: 51.1863 - val_loss: 50.1405\n",
      "Epoch 66/100\n",
      "7397/7397 [==============================] - 34s 5ms/sample - loss: 50.1537 - val_loss: 48.9575\n",
      "Epoch 67/100\n",
      "7397/7397 [==============================] - 34s 5ms/sample - loss: 49.3715 - val_loss: 48.1607\n",
      "Epoch 68/100\n",
      "7397/7397 [==============================] - 34s 5ms/sample - loss: 164.9735 - val_loss: 47.3034\n",
      "Epoch 69/100\n",
      "7397/7397 [==============================] - 34s 5ms/sample - loss: 47.3084 - val_loss: 46.2424\n",
      "Epoch 70/100\n",
      "7380/7397 [============================>.] - ETA: 0s - loss: 46.2630\n",
      "Epoch 00070: loss did not improve from 14.07170\n",
      "7397/7397 [==============================] - 34s 5ms/sample - loss: 46.2708 - val_loss: 45.4788\n",
      "Epoch 71/100\n",
      "7397/7397 [==============================] - 34s 5ms/sample - loss: 45.0874 - val_loss: 44.1823\n",
      "Epoch 72/100\n",
      "7397/7397 [==============================] - 34s 5ms/sample - loss: 44.2413 - val_loss: 43.2127\n",
      "Epoch 73/100\n",
      "7397/7397 [==============================] - 34s 5ms/sample - loss: 43.1283 - val_loss: 42.1802\n",
      "Epoch 74/100\n",
      "7397/7397 [==============================] - 34s 5ms/sample - loss: 69.7093 - val_loss: 42.2914\n",
      "Epoch 75/100\n",
      "7380/7397 [============================>.] - ETA: 0s - loss: 41.4454\n",
      "Epoch 00075: loss did not improve from 14.07170\n",
      "7397/7397 [==============================] - 34s 5ms/sample - loss: 41.4584 - val_loss: 40.1629\n",
      "Epoch 76/100\n",
      "7397/7397 [==============================] - 34s 5ms/sample - loss: 40.2311 - val_loss: 40.8968\n",
      "Epoch 77/100\n",
      "7397/7397 [==============================] - 34s 5ms/sample - loss: 39.2054 - val_loss: 37.9721\n",
      "Epoch 78/100\n",
      "7397/7397 [==============================] - 34s 5ms/sample - loss: 38.4282 - val_loss: 36.9575\n",
      "Epoch 79/100\n",
      "7397/7397 [==============================] - 34s 5ms/sample - loss: 37.3261 - val_loss: 36.6210\n",
      "Epoch 80/100\n",
      "7380/7397 [============================>.] - ETA: 0s - loss: 36.2272\n",
      "Epoch 00080: loss did not improve from 14.07170\n",
      "7397/7397 [==============================] - 34s 5ms/sample - loss: 36.2187 - val_loss: 34.9901\n",
      "Epoch 81/100\n",
      "7397/7397 [==============================] - 34s 5ms/sample - loss: 35.3255 - val_loss: 34.0319\n",
      "Epoch 82/100\n",
      "7397/7397 [==============================] - 34s 5ms/sample - loss: 34.4877 - val_loss: 33.0702\n",
      "Epoch 83/100\n",
      "7397/7397 [==============================] - 34s 5ms/sample - loss: 33.3789 - val_loss: 32.3952\n",
      "Epoch 84/100\n",
      "7397/7397 [==============================] - 34s 5ms/sample - loss: 32.5362 - val_loss: 31.3299\n",
      "Epoch 85/100\n",
      "7380/7397 [============================>.] - ETA: 0s - loss: 31.5397\n",
      "Epoch 00085: loss did not improve from 14.07170\n",
      "7397/7397 [==============================] - 34s 5ms/sample - loss: 31.5222 - val_loss: 30.5775\n",
      "Epoch 86/100\n",
      "7397/7397 [==============================] - 34s 5ms/sample - loss: 30.7853 - val_loss: 29.4662\n",
      "Epoch 87/100\n",
      "7397/7397 [==============================] - 34s 5ms/sample - loss: 30.0080 - val_loss: 28.6001\n",
      "Epoch 88/100\n",
      "7397/7397 [==============================] - 34s 5ms/sample - loss: 29.2918 - val_loss: 27.7637\n",
      "Epoch 89/100\n",
      "7397/7397 [==============================] - 34s 5ms/sample - loss: 117.8654 - val_loss: 27.8578\n",
      "Epoch 90/100\n",
      "7380/7397 [============================>.] - ETA: 0s - loss: 28.0019\n",
      "Epoch 00090: loss did not improve from 14.07170\n",
      "7397/7397 [==============================] - 34s 5ms/sample - loss: 28.0009 - val_loss: 26.8008\n",
      "Epoch 91/100\n",
      "7397/7397 [==============================] - 34s 5ms/sample - loss: 27.0891 - val_loss: 26.0147\n",
      "Epoch 92/100\n",
      "7397/7397 [==============================] - 34s 5ms/sample - loss: 6235749608.8690 - val_loss: 56.0608\n",
      "Epoch 93/100\n",
      "7397/7397 [==============================] - 34s 5ms/sample - loss: 303125.6844 - val_loss: 3974.6755\n",
      "Epoch 94/100\n",
      "7397/7397 [==============================] - 34s 5ms/sample - loss: 246.3199 - val_loss: 98.7861\n",
      "Epoch 95/100\n",
      "7380/7397 [============================>.] - ETA: 0s - loss: 83.9807\n",
      "Epoch 00095: loss did not improve from 14.07170\n",
      "7397/7397 [==============================] - 34s 5ms/sample - loss: 83.9519 - val_loss: 95.9820\n",
      "Epoch 96/100\n",
      "7397/7397 [==============================] - 34s 5ms/sample - loss: 67.8967 - val_loss: 59.4032\n",
      "Epoch 97/100\n",
      "7397/7397 [==============================] - 34s 5ms/sample - loss: 61.3531 - val_loss: 55.7295\n",
      "Epoch 98/100\n",
      "7397/7397 [==============================] - 34s 5ms/sample - loss: 65.8554 - val_loss: 53.7788\n",
      "Epoch 99/100\n",
      "7397/7397 [==============================] - 34s 5ms/sample - loss: 57.4498 - val_loss: 52.3446\n",
      "Epoch 100/100\n",
      "7380/7397 [============================>.] - ETA: 0s - loss: 15090.1904\n",
      "Epoch 00100: loss did not improve from 14.07170\n",
      "7397/7397 [==============================] - 34s 5ms/sample - loss: 15055.8588 - val_loss: 56.6328\n",
      "7397/7397 [==============================] - 12s 2ms/sample - loss: 57.2579\n",
      "4932/4932 [==============================] - 8s 2ms/sample - loss: 56.6328\n",
      "Train: 57.258, Test: 56.633\n"
     ]
    },
    {
     "data": {
      "image/png": "[encoded data removed]",
      "text/plain": [
       "<Figure size 432x288 with 1 Axes>"
      ]
     },
     "metadata": {
      "needs_background": "light"
     },
     "output_type": "display_data"
    }
   ],
   "source": [
    "# Reference: https://machinelearningmastery.com/how-to-improve-neural-network-stability-and-modeling-performance-with-data-scaling/\n",
    "from tensorflow.python.keras.layers import Input, Dense, Conv2D, MaxPooling2D, Flatten\n",
    "from tensorflow.python.keras import Sequential\n",
    "from tensorflow.python.keras.regularizers import l1,l2\n",
    "\n",
    "from tensorflow.keras.optimizers import SGD, Adam\n",
    "from tensorflow.keras.callbacks import ModelCheckpoint\n",
    "\n",
    "batch_L =30\n",
    "epoch_L =100\n",
    "\n",
    "model = Sequential()\n",
    "'''\n",
    "model.add(Conv2D(32, (64, 64), kernel_regularizer=l2(0.01), activation='relu', input_shape=(176, 192, 9), padding='same'))\n",
    "model.add(MaxPooling2D(pool_size=(2, 2)))\n",
    "\n",
    "model.add(Conv2D(64, (32, 32), kernel_regularizer=l2(0.01), activation='relu', padding='same'))\n",
    "model.add(MaxPooling2D(pool_size=(2, 2)))\n",
    "\n",
    "model.add(Conv2D(64, (16, 16), kernel_regularizer=l2(0.01), activation='relu', padding='same'))\n",
    "model.add(MaxPooling2D(pool_size=(2, 2)))\n",
    "\n",
    "model.add(Conv2D(128, (8, 8), kernel_regularizer=l2(0.01), activation='relu', padding='same'))\n",
    "model.add(MaxPooling2D(pool_size=(2, 2)))\n",
    "\n",
    "model.add(Conv2D(512, (4, 4), kernel_regularizer=l2(0.01), activation='relu', padding='same'))\n",
    "model.add(MaxPooling2D(pool_size=(2, 2)))\n",
    "'''\n",
    "\n",
    "\n",
    "'''\n",
    "model.add( Conv2D(16, (32, 32), kernel_regularizer=l2(0.01), activation='relu', input_shape=(176, 192, 9), padding='same'))\n",
    "model.add(MaxPooling2D(pool_size=(2, 2)))\n",
    "\n",
    "model.add(Conv2D(32, (32, 32), kernel_regularizer=l2(0.01), activation='relu', padding='same'))\n",
    "\n",
    "model.add(Conv2D(32, (32, 32), kernel_regularizer=l2(0.01), activation='relu', padding='same'))\n",
    "model.add(MaxPooling2D(pool_size=(2, 2)))\n",
    "\n",
    "model.add(Conv2D(64, (16, 16), kernel_regularizer=l2(0.01), activation='relu', padding='same'))\n",
    "model.add(MaxPooling2D(pool_size=(2, 2)))\n",
    "\n",
    "model.add(Conv2D(128, (8, 8), kernel_regularizer=l2(0.01), activation='relu', padding='same'))\n",
    "model.add(MaxPooling2D(pool_size=(2, 2)))\n",
    "\n",
    "model.add(Flatten())\n",
    "model.add(Dense(1, kernel_regularizer=l2(0.01), bias_regularizer=l2(0.01), activation='linear'))\n",
    "'''\n",
    "\n",
    "'''\n",
    "model.add( Conv2D(16, (64, 64), kernel_regularizer=l2(0.01), activation='relu', input_shape=(176, 192, 9), padding='same'))\n",
    "model.add(MaxPooling2D(pool_size=(2, 2)))\n",
    "\n",
    "model.add(Conv2D(32, (32, 32), kernel_regularizer=l2(0.01), activation='relu', padding='same'))\n",
    "\n",
    "model.add(Conv2D(32, (32, 32), kernel_regularizer=l2(0.01), activation='relu', padding='same'))\n",
    "\n",
    "model.add(Conv2D(32, (32, 32), kernel_regularizer=l2(0.01), activation='relu', padding='same'))\n",
    "model.add(MaxPooling2D(pool_size=(2, 2)))\n",
    "\n",
    "model.add(Conv2D(64, (16, 16), kernel_regularizer=l2(0.01), activation='relu', padding='same'))\n",
    "model.add(MaxPooling2D(pool_size=(2, 2)))\n",
    "\n",
    "model.add(Conv2D(128, (8, 8), kernel_regularizer=l2(0.01), activation='relu', padding='same'))\n",
    "model.add(MaxPooling2D(pool_size=(2, 2)))\n",
    "'''\n",
    "\n",
    "model.add( Conv2D(32, (64, 64), kernel_regularizer=l2(0.01), activation='relu', input_shape=(176, 192, 9), padding='same'))\n",
    "model.add(MaxPooling2D(pool_size=(2, 2)))\n",
    "\n",
    "model.add(Conv2D(64, (32, 32), kernel_regularizer=l2(0.01), activation='relu', padding='same'))\n",
    "\n",
    "model.add(Conv2D(64, (32, 32), kernel_regularizer=l2(0.01), activation='relu', padding='same'))\n",
    "\n",
    "model.add(Conv2D(128, (32, 32), kernel_regularizer=l2(0.01), activation='relu', padding='same'))\n",
    "model.add(MaxPooling2D(pool_size=(2, 2)))\n",
    "\n",
    "model.add(Conv2D(128, (16, 16), kernel_regularizer=l2(0.01), activation='relu', padding='same'))\n",
    "model.add(MaxPooling2D(pool_size=(2, 2)))\n",
    "\n",
    "model.add(Conv2D(256, (8, 8), kernel_regularizer=l2(0.01), activation='relu', padding='same'))\n",
    "model.add(MaxPooling2D(pool_size=(2, 2)))\n",
    "\n",
    "model.add(Flatten())\n",
    "#model.add(Dense(1, kernel_regularizer=l2(0.01), bias_regularizer=l2(0.01), activation='linear'))\n",
    "model.add(Dense(1, kernel_regularizer=l2(0.01), activation='linear'))\n",
    "\n",
    "#sgd = SGD(lr=0.01, decay=1e-6, momentum=0.9, nesterov=True)\n",
    "adam = Adam(lr=0.001)\n",
    "\n",
    "model.compile(loss='mean_squared_error', optimizer=adam)\n",
    "\n",
    "# checkpoint\n",
    "# Include the epoch in the file name (uses `str.format`)\n",
    "checkpoint_path = '/workspace/checkpoint/cp-nfl-{epoch:04d}.ckpt'\n",
    "checkpoint_dir = os.path.dirname(checkpoint_path)\n",
    "print(checkpoint_dir)\n",
    "checkpoint = ModelCheckpoint(filepath=checkpoint_path, monitor='loss', verbose=1,\n",
    "    save_best_only=True, mode='auto', period=5)\n",
    "\n",
    "# Loads the weights\n",
    "#initial_weight_path = '/workspace/checkpoint/cp-nfl-0100-l2-100epoch.ckpt'\n",
    "initial_weight_path = '/workspace/checkpoint/cp-nfl-0025_l2_before_overfit_85epoch.ckpt'\n",
    "model.load_weights(initial_weight_path)\n",
    "\n",
    "\n",
    "# history = model.fit(xTrain, yTrain, batch_size=batch_L, epochs=epoch_L)\n",
    "history = model.fit(xTrain, yTrain, batch_size=batch_L, epochs=epoch_L, \n",
    "                    callbacks=[checkpoint], validation_data=(xTest, yTest))\n",
    " \n",
    "\n",
    "train_mse = model.evaluate(xTrain, yTrain, batch_size=batch_L)\n",
    "test_mse = model.evaluate(xTest, yTest, batch_size=batch_L)\n",
    "\n",
    "print('Train: %.3f, Test: %.3f' % (train_mse, test_mse))\n",
    "# plot loss during training\n",
    "plt.title('Loss / Mean Squared Error')\n",
    "plt.plot(history.history['loss'], label='train')\n",
    "plt.plot(history.history['val_loss'], label='validation')\n",
    "\n",
    "\n",
    "\n",
    "\n",
    "plt.legend()\n",
    "plt.show()\n"
   ]
  },
  {
   "cell_type": "code",
   "execution_count": 13,
   "metadata": {},
   "outputs": [],
   "source": [
    "# Loads the weights\n",
    "initial_weight_path = '/workspace/checkpoint/cp-nfl-0025_l2_before_overfit_85epoch.ckpt'\n",
    "#'cp-nfl-0025_l2_before_overfit_85epoch.ckp'\n",
    "model.load_weights(initial_weight_path)"
   ]
  },
  {
   "cell_type": "code",
   "execution_count": 14,
   "metadata": {},
   "outputs": [],
   "source": [
    "trainloss=history.history['loss']\n",
    "valloss=history.history['val_loss']\n"
   ]
  },
  {
   "cell_type": "code",
   "execution_count": 15,
   "metadata": {},
   "outputs": [
    {
     "data": {
      "text/plain": [
       "Text(0, 0.5, 'loss/Mean Squared Error')"
      ]
     },
     "execution_count": 15,
     "metadata": {},
     "output_type": "execute_result"
    },
    {
     "data": {
      "image/png": "[encoded data removed]",
      "text/plain": [
       "<Figure size 432x288 with 1 Axes>"
      ]
     },
     "metadata": {
      "needs_background": "light"
     },
     "output_type": "display_data"
    }
   ],
   "source": [
    "train_loss,=plt.plot(trainloss[18:],'b', label='train_loss')\n",
    "val_loss,=plt.plot(valloss[18:],'r', label='val_loss')\n",
    "plt.legend(handles=[train_loss, val_loss])\n",
    "plt.xlabel('epoch')\n",
    "plt.ylabel('loss/Mean Squared Error')"
   ]
  },
  {
   "cell_type": "code",
   "execution_count": 16,
   "metadata": {},
   "outputs": [
    {
     "data": {
      "text/plain": [
       "[<matplotlib.lines.Line2D at 0x7f2ea034b5f8>]"
      ]
     },
     "execution_count": 16,
     "metadata": {},
     "output_type": "execute_result"
    },
    {
     "data": {
      "image/png": "[encoded data removed]",
      "text/plain": [
       "<Figure size 432x288 with 1 Axes>"
      ]
     },
     "metadata": {
      "needs_background": "light"
     },
     "output_type": "display_data"
    }
   ],
   "source": [
    "plt.title('Loss / Mean Squared Error')\n",
    "plt.plot(history.history['loss'], label='train')\n"
   ]
  },
  {
   "cell_type": "code",
   "execution_count": 17,
   "metadata": {},
   "outputs": [
    {
     "data": {
      "text/plain": [
       "[<matplotlib.lines.Line2D at 0x7f2ea02db320>]"
      ]
     },
     "execution_count": 17,
     "metadata": {},
     "output_type": "execute_result"
    },
    {
     "data": {
      "image/png": "[encoded data removed]",
      "text/plain": [
       "<Figure size 432x288 with 1 Axes>"
      ]
     },
     "metadata": {
      "needs_background": "light"
     },
     "output_type": "display_data"
    }
   ],
   "source": [
    "plt.plot(history.history['val_loss'], label='validation')"
   ]
  },
  {
   "cell_type": "code",
   "execution_count": 118,
   "metadata": {},
   "outputs": [
    {
     "data": {
      "text/plain": [
       "array([70.52721 , 76.133255, 69.31472 , ..., 68.02395 , 70.52721 ,\n",
       "       68.67974 ], dtype=float32)"
      ]
     },
     "execution_count": 118,
     "metadata": {},
     "output_type": "execute_result"
    }
   ],
   "source": [
    "range_monitor = range(1000,1100)\n",
    "ynew = model.predict(xTest[range_monitor])\n",
    "\n",
    "ynew_rescale=np.exp(ynew/20) -30\n",
    "yTest_rescale=np.exp(yTest/20) -30\n",
    "\n",
    "np.log(data_label_sub+30)*20\n"
   ]
  },
  {
   "cell_type": "code",
   "execution_count": 119,
   "metadata": {},
   "outputs": [
    {
     "data": {
      "text/plain": [
       "Text(0, 0.5, 'yardage')"
      ]
     },
     "execution_count": 119,
     "metadata": {},
     "output_type": "execute_result"
    },
    {
     "data": {
      "image/png": "[encoded data removed]",
      "text/plain": [
       "<Figure size 432x288 with 1 Axes>"
      ]
     },
     "metadata": {
      "needs_background": "light"
     },
     "output_type": "display_data"
    }
   ],
   "source": [
    "predicted,=plt.plot(ynew_rescale,'r', label='predicted')\n",
    "true_data,=plt.plot(yTest_rescale[range_monitor],'b', label='true_data')\n",
    "plt.legend(handles=[predicted, true_data])\n",
    "plt.xlabel('play id')\n",
    "plt.ylabel('yardage')\n",
    "\n"
   ]
  },
  {
   "cell_type": "code",
   "execution_count": 120,
   "metadata": {},
   "outputs": [
    {
     "data": {
      "text/plain": [
       "[<matplotlib.lines.Line2D at 0x7f2e28619e80>]"
      ]
     },
     "execution_count": 120,
     "metadata": {},
     "output_type": "execute_result"
    },
    {
     "data": {
      "image/png": "[encoded data removed]",
      "text/plain": [
       "<Figure size 432x288 with 1 Axes>"
      ]
     },
     "metadata": {
      "needs_background": "light"
     },
     "output_type": "display_data"
    }
   ],
   "source": [
    "plt.plot(ynew_rescale[0:len(range_monitor)],'b')"
   ]
  },
  {
   "cell_type": "code",
   "execution_count": 122,
   "metadata": {},
   "outputs": [
    {
     "data": {
      "text/plain": [
       "[<matplotlib.lines.Line2D at 0x7f2e28560160>]"
      ]
     },
     "execution_count": 122,
     "metadata": {},
     "output_type": "execute_result"
    },
    {
     "data": {
      "image/png": "[encoded data removed]",
      "text/plain": [
       "<Figure size 432x288 with 1 Axes>"
      ]
     },
     "metadata": {
      "needs_background": "light"
     },
     "output_type": "display_data"
    }
   ],
   "source": [
    "plt.plot(yTest_rescale[range_monitor],'b')"
   ]
  },
  {
   "cell_type": "code",
   "execution_count": null,
   "metadata": {},
   "outputs": [],
   "source": []
  },
  {
   "cell_type": "code",
   "execution_count": null,
   "metadata": {},
   "outputs": [],
   "source": []
  },
  {
   "cell_type": "code",
   "execution_count": null,
   "metadata": {},
   "outputs": [],
   "source": []
  }
 ],
 "metadata": {
  "accelerator": "GPU",
  "colab": {
   "collapsed_sections": [],
   "name": "NFL_big_databowl.ipynb",
   "provenance": [],
   "toc_visible": true
  },
  "kernelspec": {
   "display_name": "Python 3",
   "language": "python",
   "name": "python3"
  },
  "language_info": {
   "codemirror_mode": {
    "name": "ipython",
    "version": 3
   },
   "file_extension": ".py",
   "mimetype": "text/x-python",
   "name": "python",
   "nbconvert_exporter": "python",
   "pygments_lexer": "ipython3",
   "version": "3.6.8"
  }
 },
 "nbformat": 4,
 "nbformat_minor": 1
}
